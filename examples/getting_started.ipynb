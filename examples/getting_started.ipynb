{
 "cells": [
  {
   "cell_type": "markdown",
   "metadata": {},
   "source": [
    "# Interacting with Coq\n",
    "\n",
    "The `Pytanque` class implements a lightweight client that can communicate with the Rocq prover via the `pet-server`."
   ]
  },
  {
   "cell_type": "code",
   "execution_count": 12,
   "metadata": {},
   "outputs": [],
   "source": [
    "from pytanque import Pytanque"
   ]
  },
  {
   "cell_type": "markdown",
   "metadata": {},
   "source": [
    "First you need to start the server.\n",
    "Instructions can be found in the coq-lsp repo (https://github.com/ejgallego/coq-lsp/tree/main/petanque)\n",
    "\n",
    "Then, you can create a client and connect it to the same address and port.\n",
    "You need to indicate the location of the project (directory containing the `_CoqProject` file, or root directory for the `.v` files)."
   ]
  },
  {
   "cell_type": "code",
   "execution_count": 13,
   "metadata": {},
   "outputs": [],
   "source": [
    "pet = Pytanque(\"127.0.0.1\", 8080)\n",
    "pet.connect()\n",
    "env = pet.init(root=\".\")"
   ]
  },
  {
   "cell_type": "markdown",
   "metadata": {},
   "source": [
    "Petanque relies on regular coq files.\n",
    "To prove an existing theorem, just indicate the location of the `.v` file and the name of the theorem."
   ]
  },
  {
   "cell_type": "code",
   "execution_count": 14,
   "metadata": {},
   "outputs": [
    {
     "ename": "PetanqueError",
     "evalue": "Error(code=-32005, message='Theorem_not_found: [find_thm] Theorem not found!')",
     "output_type": "error",
     "traceback": [
      "\u001b[0;31m---------------------------------------------------------------------------\u001b[0m",
      "\u001b[0;31mValueError\u001b[0m                                Traceback (most recent call last)",
      "File \u001b[0;32m~/Project/llm4coq/pytanque/pytanque/client.py:119\u001b[0m, in \u001b[0;36mPytanque.query\u001b[0;34m(self, params, size)\u001b[0m\n\u001b[1;32m    118\u001b[0m \u001b[38;5;28;01mtry\u001b[39;00m:\n\u001b[0;32m--> 119\u001b[0m     resp \u001b[38;5;241m=\u001b[39m \u001b[43mResponse\u001b[49m\u001b[38;5;241;43m.\u001b[39;49m\u001b[43mfrom_json_string\u001b[49m\u001b[43m(\u001b[49m\u001b[43mraw\u001b[49m\u001b[38;5;241;43m.\u001b[39;49m\u001b[43mdecode\u001b[49m\u001b[43m(\u001b[49m\u001b[43m)\u001b[49m\u001b[43m)\u001b[49m\n\u001b[1;32m    120\u001b[0m     \u001b[38;5;28;01mif\u001b[39;00m resp\u001b[38;5;241m.\u001b[39mid \u001b[38;5;241m!=\u001b[39m \u001b[38;5;28mself\u001b[39m\u001b[38;5;241m.\u001b[39mid:\n",
      "File \u001b[0;32m~/Project/llm4coq/pytanque/pytanque/protocol.py:470\u001b[0m, in \u001b[0;36mResponse.from_json_string\u001b[0;34m(cls, x)\u001b[0m\n\u001b[1;32m    468\u001b[0m \u001b[38;5;129m@classmethod\u001b[39m\n\u001b[1;32m    469\u001b[0m \u001b[38;5;28;01mdef\u001b[39;00m \u001b[38;5;21mfrom_json_string\u001b[39m(\u001b[38;5;28mcls\u001b[39m, x: \u001b[38;5;28mstr\u001b[39m) \u001b[38;5;241m-\u001b[39m\u001b[38;5;241m>\u001b[39m \u001b[38;5;124m\"\u001b[39m\u001b[38;5;124mResponse\u001b[39m\u001b[38;5;124m\"\u001b[39m:\n\u001b[0;32m--> 470\u001b[0m     \u001b[38;5;28;01mreturn\u001b[39;00m \u001b[38;5;28;43mcls\u001b[39;49m\u001b[38;5;241;43m.\u001b[39;49m\u001b[43mfrom_json\u001b[49m\u001b[43m(\u001b[49m\u001b[43mjson\u001b[49m\u001b[38;5;241;43m.\u001b[39;49m\u001b[43mloads\u001b[49m\u001b[43m(\u001b[49m\u001b[43mx\u001b[49m\u001b[43m)\u001b[49m\u001b[43m)\u001b[49m\n",
      "File \u001b[0;32m~/Project/llm4coq/pytanque/pytanque/protocol.py:454\u001b[0m, in \u001b[0;36mResponse.from_json\u001b[0;34m(cls, x)\u001b[0m\n\u001b[1;32m    444\u001b[0m \u001b[38;5;28;01mif\u001b[39;00m \u001b[38;5;28misinstance\u001b[39m(x, \u001b[38;5;28mdict\u001b[39m):\n\u001b[1;32m    445\u001b[0m     \u001b[38;5;28;01mreturn\u001b[39;00m \u001b[38;5;28mcls\u001b[39m(\n\u001b[1;32m    446\u001b[0m         \u001b[38;5;28mid\u001b[39m\u001b[38;5;241m=\u001b[39m(\n\u001b[1;32m    447\u001b[0m             _atd_read_int(x[\u001b[38;5;124m\"\u001b[39m\u001b[38;5;124mid\u001b[39m\u001b[38;5;124m\"\u001b[39m])\n\u001b[1;32m    448\u001b[0m             \u001b[38;5;28;01mif\u001b[39;00m \u001b[38;5;124m\"\u001b[39m\u001b[38;5;124mid\u001b[39m\u001b[38;5;124m\"\u001b[39m \u001b[38;5;129;01min\u001b[39;00m x\n\u001b[1;32m    449\u001b[0m             \u001b[38;5;28;01melse\u001b[39;00m _atd_missing_json_field(\u001b[38;5;124m\"\u001b[39m\u001b[38;5;124mResponse\u001b[39m\u001b[38;5;124m\"\u001b[39m, \u001b[38;5;124m\"\u001b[39m\u001b[38;5;124mid\u001b[39m\u001b[38;5;124m\"\u001b[39m)\n\u001b[1;32m    450\u001b[0m         ),\n\u001b[1;32m    451\u001b[0m         result\u001b[38;5;241m=\u001b[39m(\n\u001b[1;32m    452\u001b[0m             (\u001b[38;5;28;01mlambda\u001b[39;00m x: x)(x[\u001b[38;5;124m\"\u001b[39m\u001b[38;5;124mresult\u001b[39m\u001b[38;5;124m\"\u001b[39m])\n\u001b[1;32m    453\u001b[0m             \u001b[38;5;28;01mif\u001b[39;00m \u001b[38;5;124m\"\u001b[39m\u001b[38;5;124mresult\u001b[39m\u001b[38;5;124m\"\u001b[39m \u001b[38;5;129;01min\u001b[39;00m x\n\u001b[0;32m--> 454\u001b[0m             \u001b[38;5;28;01melse\u001b[39;00m \u001b[43m_atd_missing_json_field\u001b[49m\u001b[43m(\u001b[49m\u001b[38;5;124;43m\"\u001b[39;49m\u001b[38;5;124;43mResponse\u001b[39;49m\u001b[38;5;124;43m\"\u001b[39;49m\u001b[43m,\u001b[49m\u001b[43m \u001b[49m\u001b[38;5;124;43m\"\u001b[39;49m\u001b[38;5;124;43mresult\u001b[39;49m\u001b[38;5;124;43m\"\u001b[39;49m\u001b[43m)\u001b[49m\n\u001b[1;32m    455\u001b[0m         ),\n\u001b[1;32m    456\u001b[0m         jsonrpc\u001b[38;5;241m=\u001b[39m_atd_read_string(x[\u001b[38;5;124m\"\u001b[39m\u001b[38;5;124mjsonrpc\u001b[39m\u001b[38;5;124m\"\u001b[39m]) \u001b[38;5;28;01mif\u001b[39;00m \u001b[38;5;124m\"\u001b[39m\u001b[38;5;124mjsonrpc\u001b[39m\u001b[38;5;124m\"\u001b[39m \u001b[38;5;129;01min\u001b[39;00m x \u001b[38;5;28;01melse\u001b[39;00m \u001b[38;5;124m\"\u001b[39m\u001b[38;5;124m2.0\u001b[39m\u001b[38;5;124m\"\u001b[39m,\n\u001b[1;32m    457\u001b[0m     )\n\u001b[1;32m    458\u001b[0m \u001b[38;5;28;01melse\u001b[39;00m:\n",
      "File \u001b[0;32m~/Project/llm4coq/pytanque/pytanque/protocol.py:23\u001b[0m, in \u001b[0;36m_atd_missing_json_field\u001b[0;34m(type_name, json_field_name)\u001b[0m\n\u001b[1;32m     22\u001b[0m \u001b[38;5;28;01mdef\u001b[39;00m \u001b[38;5;21m_atd_missing_json_field\u001b[39m(type_name: \u001b[38;5;28mstr\u001b[39m, json_field_name: \u001b[38;5;28mstr\u001b[39m) \u001b[38;5;241m-\u001b[39m\u001b[38;5;241m>\u001b[39m NoReturn:\n\u001b[0;32m---> 23\u001b[0m     \u001b[38;5;28;01mraise\u001b[39;00m \u001b[38;5;167;01mValueError\u001b[39;00m(\n\u001b[1;32m     24\u001b[0m         \u001b[38;5;124mf\u001b[39m\u001b[38;5;124m\"\u001b[39m\u001b[38;5;124mmissing field \u001b[39m\u001b[38;5;124m'\u001b[39m\u001b[38;5;132;01m{\u001b[39;00mjson_field_name\u001b[38;5;132;01m}\u001b[39;00m\u001b[38;5;124m'\u001b[39m\u001b[38;5;124m\"\u001b[39m \u001b[38;5;124mf\u001b[39m\u001b[38;5;124m\"\u001b[39m\u001b[38;5;124m in JSON object of type \u001b[39m\u001b[38;5;124m'\u001b[39m\u001b[38;5;132;01m{\u001b[39;00mtype_name\u001b[38;5;132;01m}\u001b[39;00m\u001b[38;5;124m'\u001b[39m\u001b[38;5;124m\"\u001b[39m\n\u001b[1;32m     25\u001b[0m     )\n",
      "\u001b[0;31mValueError\u001b[0m: missing field 'result' in JSON object of type 'Response'",
      "\nDuring handling of the above exception, another exception occurred:\n",
      "\u001b[0;31mPetanqueError\u001b[0m                             Traceback (most recent call last)",
      "Cell \u001b[0;32mIn[14], line 8\u001b[0m\n\u001b[1;32m      2\u001b[0m     code \u001b[38;5;241m=\u001b[39m \u001b[38;5;124m\"\"\"\u001b[39m\n\u001b[1;32m      3\u001b[0m \u001b[38;5;124mLemma test n : 1 + n > n.\u001b[39m\n\u001b[1;32m      4\u001b[0m \u001b[38;5;124m    \u001b[39m\u001b[38;5;124m\"\"\"\u001b[39m\n\u001b[1;32m      5\u001b[0m     \u001b[38;5;28mprint\u001b[39m(code, file\u001b[38;5;241m=\u001b[39mfile)\n\u001b[0;32m----> 8\u001b[0m state \u001b[38;5;241m=\u001b[39m \u001b[43mpet\u001b[49m\u001b[38;5;241;43m.\u001b[39;49m\u001b[43mstart\u001b[49m\u001b[43m(\u001b[49m\u001b[43mfile\u001b[49m\u001b[38;5;241;43m=\u001b[39;49m\u001b[38;5;124;43m\"\u001b[39;49m\u001b[38;5;124;43m./scratch.v\u001b[39;49m\u001b[38;5;124;43m\"\u001b[39;49m\u001b[43m,\u001b[49m\u001b[43m \u001b[49m\u001b[43mthm\u001b[49m\u001b[38;5;241;43m=\u001b[39;49m\u001b[38;5;124;43m\"\u001b[39;49m\u001b[38;5;124;43mtest\u001b[39;49m\u001b[38;5;124;43m\"\u001b[39;49m\u001b[43m)\u001b[49m\n",
      "File \u001b[0;32m~/Project/llm4coq/pytanque/pytanque/client.py:146\u001b[0m, in \u001b[0;36mPytanque.start\u001b[0;34m(self, file, thm)\u001b[0m\n\u001b[1;32m    144\u001b[0m path \u001b[38;5;241m=\u001b[39m os\u001b[38;5;241m.\u001b[39mpath\u001b[38;5;241m.\u001b[39mabspath(file)\n\u001b[1;32m    145\u001b[0m uri \u001b[38;5;241m=\u001b[39m pathlib\u001b[38;5;241m.\u001b[39mPath(path)\u001b[38;5;241m.\u001b[39mas_uri()\n\u001b[0;32m--> 146\u001b[0m resp \u001b[38;5;241m=\u001b[39m \u001b[38;5;28;43mself\u001b[39;49m\u001b[38;5;241;43m.\u001b[39;49m\u001b[43mquery\u001b[49m\u001b[43m(\u001b[49m\u001b[43mStartParams\u001b[49m\u001b[43m(\u001b[49m\u001b[38;5;28;43mself\u001b[39;49m\u001b[38;5;241;43m.\u001b[39;49m\u001b[43menv\u001b[49m\u001b[43m,\u001b[49m\u001b[43m \u001b[49m\u001b[43muri\u001b[49m\u001b[43m,\u001b[49m\u001b[43m \u001b[49m\u001b[38;5;28;43mself\u001b[39;49m\u001b[38;5;241;43m.\u001b[39;49m\u001b[43mthm\u001b[49m\u001b[43m)\u001b[49m\u001b[43m)\u001b[49m\n\u001b[1;32m    147\u001b[0m logger\u001b[38;5;241m.\u001b[39minfo(\u001b[38;5;124mf\u001b[39m\u001b[38;5;124m\"\u001b[39m\u001b[38;5;124mStart success.\u001b[39m\u001b[38;5;124m\"\u001b[39m)\n\u001b[1;32m    148\u001b[0m \u001b[38;5;28;01mreturn\u001b[39;00m CurrentState(resp\u001b[38;5;241m.\u001b[39mresult)\n",
      "File \u001b[0;32m~/Project/llm4coq/pytanque/pytanque/client.py:125\u001b[0m, in \u001b[0;36mPytanque.query\u001b[0;34m(self, params, size)\u001b[0m\n\u001b[1;32m    123\u001b[0m \u001b[38;5;28;01mexcept\u001b[39;00m \u001b[38;5;167;01mValueError\u001b[39;00m:\n\u001b[1;32m    124\u001b[0m     failure \u001b[38;5;241m=\u001b[39m Failure\u001b[38;5;241m.\u001b[39mfrom_json_string(raw\u001b[38;5;241m.\u001b[39mdecode())\n\u001b[0;32m--> 125\u001b[0m     \u001b[38;5;28;01mraise\u001b[39;00m PetanqueError(failure\u001b[38;5;241m.\u001b[39merror)\n",
      "\u001b[0;31mPetanqueError\u001b[0m: Error(code=-32005, message='Theorem_not_found: [find_thm] Theorem not found!')"
     ]
    }
   ],
   "source": [
    "with open(\"./scratch.v\", \"w\") as file:\n",
    "    code = \"\"\"\n",
    "Lemma test n : 1 + n > n.\n",
    "    \"\"\"\n",
    "    print(code, file=file)\n",
    "\n",
    "\n",
    "state = pet.start(file=\"./scratch.v\", thm=\"test\")"
   ]
  },
  {
   "cell_type": "markdown",
   "metadata": {},
   "source": [
    "Internally the state is a simple `id`.\n",
    "To retrieve the state of the prover, you can use the `goals` method."
   ]
  },
  {
   "cell_type": "code",
   "execution_count": null,
   "metadata": {},
   "outputs": [
    {
     "name": "stdout",
     "output_type": "stream",
     "text": [
      "Internal pytanque state: CurrentState(value=1)\n",
      "Prover goals: GoalsResponse(goals=[Goal(info={'evar': ['Ser_Evar', 3], 'name': None}, hyps=[GoalHyp(names=['n'], ty='nat', def_=None)], ty='1 + n > n')])\n",
      "\n",
      "n  : nat\n",
      "-----------------------------\n",
      "1 + n > n\n"
     ]
    }
   ],
   "source": [
    "print(f\"Internal pytanque state: {state}\")\n",
    "\n",
    "goals = pet.goals(state)  # Retrieve actual state\n",
    "print(f\"Prover goals: {goals}\\n\")\n",
    "print(goals.pp())  # Pretty print the current goals"
   ]
  },
  {
   "cell_type": "markdown",
   "metadata": {},
   "source": [
    "To execute a tactic, use the `run_tac` method."
   ]
  },
  {
   "cell_type": "code",
   "execution_count": null,
   "metadata": {},
   "outputs": [
    {
     "name": "stdout",
     "output_type": "stream",
     "text": [
      "\n",
      "-----------------------------\n",
      "1 + 0 > 0\n",
      "\n",
      "n  : nat\n",
      "IHn  : 1 + n > n\n",
      "-----------------------------\n",
      "1 + S n > S n\n"
     ]
    }
   ],
   "source": [
    "state = pet.run_tac(state, \"induction n.\")\n",
    "goals = pet.goals(state)\n",
    "print(goals.pp())"
   ]
  },
  {
   "cell_type": "markdown",
   "metadata": {},
   "source": [
    "If the proof is finished (no more goal) the state becomes `ProofFinished`"
   ]
  },
  {
   "cell_type": "code",
   "execution_count": null,
   "metadata": {},
   "outputs": [
    {
     "data": {
      "text/plain": [
       "ProofFinished(value=4)"
      ]
     },
     "execution_count": 6,
     "metadata": {},
     "output_type": "execute_result"
    }
   ],
   "source": [
    "state = pet.run_tac(state, \"auto.\")\n",
    "state = pet.run_tac(state, \"auto.\")\n",
    "state"
   ]
  },
  {
   "cell_type": "markdown",
   "metadata": {},
   "source": [
    "# Proof search\n",
    "\n",
    "Adapted from the NeurIPS 2024 tutorial: https://github.com/yangky11/ml4tp-tutorial/blob/main/main.ipynb \n",
    "\n",
    "Let us start with a dummy tactic generator (random sampling in a list of tactics) with random scores for each tactics in $[0, 1]$."
   ]
  },
  {
   "cell_type": "code",
   "execution_count": null,
   "metadata": {},
   "outputs": [],
   "source": [
    "import random\n",
    "import pytanque as pt\n",
    "from typing import List, Tuple, Optional\n",
    "\n",
    "Tactic = str\n",
    "Proof = List[Tactic]\n",
    "Score = float\n",
    "\n",
    "\n",
    "def generate_tactics(goal: str, num_candidates: int) -> Tuple[List[str], List[float]]:\n",
    "    tactics = [\n",
    "        \"intros.\",\n",
    "        \"auto.\",\n",
    "        \"simpl.\",\n",
    "        \"induction n.\",\n",
    "        \"easy.\",\n",
    "        \"trivial.\",\n",
    "        \"rewrite IHn.\",\n",
    "    ]\n",
    "    return random.choices(tactics, k=num_candidates), [\n",
    "        random.uniform(0, 1) for _ in range(num_candidates)\n",
    "    ]"
   ]
  },
  {
   "cell_type": "markdown",
   "metadata": {},
   "source": [
    "We can now implement depth-first search to search for proofs."
   ]
  },
  {
   "cell_type": "code",
   "execution_count": null,
   "metadata": {},
   "outputs": [],
   "source": [
    "num_candidates = 16\n",
    "depth_limit = 3\n",
    "\n",
    "\n",
    "def depth_first_search(state: pt.State, depth: int) -> Optional[Proof]:\n",
    "    \"\"\"Try to prove `state` using depth-first search (DFS).\"\"\"\n",
    "    if depth >= depth_limit:\n",
    "        return None\n",
    "\n",
    "    tactics, _ = generate_tactics(state, num_candidates)\n",
    "\n",
    "    # Run the tactics.\n",
    "    for tac in tactics:\n",
    "        try:\n",
    "            next_state = pet.run_tac(state, tac)\n",
    "            match next_state:\n",
    "                case pt.ProofFinished(st):\n",
    "                    return [tac]\n",
    "                case pt.CurrentState(st):\n",
    "                    subproof = depth_first_search(next_state, depth + 1)\n",
    "                    if subproof:\n",
    "                        return [tac] + subproof\n",
    "        except pt.PetanqueError:\n",
    "            pass\n",
    "    return None"
   ]
  },
  {
   "cell_type": "markdown",
   "metadata": {},
   "source": [
    "Let us try on a simple example."
   ]
  },
  {
   "cell_type": "code",
   "execution_count": null,
   "metadata": {},
   "outputs": [
    {
     "name": "stdout",
     "output_type": "stream",
     "text": [
      "Proof: trivial. trivial. auto.\n"
     ]
    }
   ],
   "source": [
    "state = pet.start(file=\"./scratch.v\", thm=\"test\")\n",
    "proof = depth_first_search(state, depth=0)\n",
    "\n",
    "if proof:\n",
    "    print(f\"Proof: {\" \".join(proof)}\")\n",
    "else:\n",
    "    print(\"Not proof found...\")"
   ]
  },
  {
   "cell_type": "markdown",
   "metadata": {},
   "source": [
    "Here is an implementation of best-first search adapted from the 2023 Neural theorem proving tutorial https://github.com/wellecks/ntptutorial"
   ]
  },
  {
   "cell_type": "code",
   "execution_count": null,
   "metadata": {},
   "outputs": [],
   "source": [
    "import heapq\n",
    "from tqdm import trange\n",
    "import logging\n",
    "\n",
    "\n",
    "def best_first_search(\n",
    "    init_state: pt.State, max_iters: int, num_samples: int\n",
    ") -> Optional[Proof]:\n",
    "    queue = [(0.0, [], init_state)]\n",
    "    visited = set()\n",
    "    for _ in trange(max_iters):\n",
    "        if len(queue) == 0:\n",
    "            break\n",
    "\n",
    "        total_score, steps, state = heapq.heappop(queue)\n",
    "        goals = pet.goals(state)\n",
    "        visited.add(goals.pp())\n",
    "\n",
    "        step_cands, step_scores = generate_tactics(state, num_samples)\n",
    "\n",
    "        for step, score in zip(step_cands, step_scores):\n",
    "            try:\n",
    "                result = pet.run_tac(state, step)\n",
    "                match result:\n",
    "                    case pt.ProofFinished():\n",
    "                        return steps + [step]\n",
    "                    case pt.CurrentState():\n",
    "                        next_goals = pet.goals(result)\n",
    "                        if next_goals.pp() not in visited:\n",
    "                            # Score is negative log probability summed across steps\n",
    "                            new_score = total_score - score\n",
    "                            heapq.heappush(queue, (new_score, steps + [step], result))\n",
    "            except pt.PetanqueError as err:\n",
    "                logging.warning(f\"Invalid Tactic: {step} {err}\")\n",
    "    return None"
   ]
  },
  {
   "cell_type": "code",
   "execution_count": null,
   "metadata": {},
   "outputs": [
    {
     "name": "stderr",
     "output_type": "stream",
     "text": [
      "  0%|          | 0/20 [00:00<?, ?it/s]WARNING:root:Invalid Tactic: easy. Error(code=-32003, message='Coq: Tactic failure: Cannot solve this goal.')\n",
      "  0%|          | 0/20 [00:00<?, ?it/s]"
     ]
    },
    {
     "name": "stdout",
     "output_type": "stream",
     "text": [
      "Proof: auto.\n"
     ]
    },
    {
     "name": "stderr",
     "output_type": "stream",
     "text": [
      "\n"
     ]
    }
   ],
   "source": [
    "state = pet.start(file=\"./scratch.v\", thm=\"test\")\n",
    "proof = best_first_search(state, max_iters=20, num_samples=5)\n",
    "\n",
    "if proof:\n",
    "    print(f\"Proof: {\" \".join(proof)}\")\n",
    "else:\n",
    "    print(\"Not proof found...\")"
   ]
  },
  {
   "cell_type": "code",
   "execution_count": null,
   "metadata": {},
   "outputs": [],
   "source": []
  }
 ],
 "metadata": {
  "kernelspec": {
   "display_name": "petanque",
   "language": "python",
   "name": "python3"
  },
  "language_info": {
   "codemirror_mode": {
    "name": "ipython",
    "version": 3
   },
   "file_extension": ".py",
   "mimetype": "text/x-python",
   "name": "python",
   "nbconvert_exporter": "python",
   "pygments_lexer": "ipython3",
   "version": "3.12.2"
  }
 },
 "nbformat": 4,
 "nbformat_minor": 2
}
