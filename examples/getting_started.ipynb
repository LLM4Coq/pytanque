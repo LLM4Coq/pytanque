{
 "cells": [
  {
   "cell_type": "markdown",
   "metadata": {},
   "source": [
    "# Interacting with Coq\n",
    "\n",
    "The `Pytanque` class implements a lightweight client that can communicate with the Rocq prover via the `pet-server`."
   ]
  },
  {
   "cell_type": "code",
   "execution_count": 1,
   "metadata": {},
   "outputs": [],
   "source": [
    "from pytanque import Pytanque"
   ]
  },
  {
   "cell_type": "markdown",
   "metadata": {},
   "source": [
    "First you need to start the server.\n",
    "Instructions can be found in the coq-lsp repo (https://github.com/ejgallego/coq-lsp/tree/main/petanque)\n",
    "\n",
    "Then, you can create a client and connect it to the same address and port."
   ]
  },
  {
   "cell_type": "code",
   "execution_count": 2,
   "metadata": {},
   "outputs": [],
   "source": [
    "pet = Pytanque(\"127.0.0.1\", 8765)\n",
    "pet.connect()"
   ]
  },
  {
   "cell_type": "markdown",
   "metadata": {},
   "source": [
    "Petanque relies on regular coq files.\n",
    "To prove an existing theorem, just indicate the location of the `.v` file and the name of the theorem."
   ]
  },
  {
   "cell_type": "code",
   "execution_count": 3,
   "metadata": {},
   "outputs": [],
   "source": [
    "file_name = \"scratch.v\"\n",
    "thm_name = \"test\"\n",
    "thm_body = \"forall n : nat, 2 * n = n + n.\"\n",
    "\n",
    "with open(f\"./{file_name}\", \"w\") as file:\n",
    "    print(f\"Lemma {thm_name} : {thm_body}\", file=file)\n",
    "\n",
    "\n",
    "state = pet.start(file=file_name, thm=thm_name)"
   ]
  },
  {
   "cell_type": "markdown",
   "metadata": {},
   "source": [
    "Internally the state is a simple `id` (and an optional `hash`).\n",
    "To retrieve the state of the prover, you can use the `goals` method."
   ]
  },
  {
   "cell_type": "code",
   "execution_count": 4,
   "metadata": {},
   "outputs": [
    {
     "name": "stdout",
     "output_type": "stream",
     "text": [
      "Internal pytanque state: State(st=9, proof_finished=False, hash=1053139973)\n",
      "Prover goals: [Goal(info={'evar': ['Ser_Evar', 4], 'name': None}, hyps=[GoalHyp(names=['n'], ty='nat', def_=None)], ty='2 * n = n + n')]\n",
      "\n",
      "n  : nat\n",
      "|-2 * n = n + n\n"
     ]
    }
   ],
   "source": [
    "print(f\"Internal pytanque state: {state}\")\n",
    "\n",
    "goals = pet.goals(state)  # Retrieve actual state\n",
    "print(f\"Prover goals: {goals}\\n\")\n",
    "for g in goals:\n",
    "    print(g.pp)  # Pretty print the current goals"
   ]
  },
  {
   "cell_type": "markdown",
   "metadata": {},
   "source": [
    "To execute a tactic, use the `run_tac` method."
   ]
  },
  {
   "cell_type": "code",
   "execution_count": 5,
   "metadata": {},
   "outputs": [
    {
     "name": "stdout",
     "output_type": "stream",
     "text": [
      "\n",
      "|-2 * 0 = 0 + 0\n",
      "\n",
      "\n",
      "n  : nat\n",
      "IHn  : 2 * n = n + n\n",
      "|-2 * S n = S n + S n\n",
      "\n",
      "\n"
     ]
    }
   ],
   "source": [
    "state = pet.run_tac(state, \"induction n. simpl.\")\n",
    "goals = pet.goals(state)\n",
    "for g in goals:\n",
    "    print(g.pp)  # Pretty print the current goals\n",
    "    print(\"\\n\")"
   ]
  },
  {
   "cell_type": "markdown",
   "metadata": {},
   "source": [
    "You can also use the `verbose` option of `run_tac` to retrieve and print the current goal after executing a tactic."
   ]
  },
  {
   "cell_type": "code",
   "execution_count": 6,
   "metadata": {},
   "outputs": [
    {
     "name": "stdout",
     "output_type": "stream",
     "text": [
      "\n",
      "Goal 0:\n",
      "n  : nat\n",
      "IHn  : 2 * n = n + n\n",
      "|-2 * S n = S n + S n\n",
      "\n"
     ]
    }
   ],
   "source": [
    "state = pet.run_tac(state, \"auto.\", verbose=True)"
   ]
  },
  {
   "cell_type": "markdown",
   "metadata": {},
   "source": [
    "If the proof is finished (no more goal) the field `proof_finished` becomes `True`."
   ]
  },
  {
   "cell_type": "code",
   "execution_count": 7,
   "metadata": {},
   "outputs": [
    {
     "data": {
      "text/plain": [
       "State(st=13, proof_finished=True, hash=24173511)"
      ]
     },
     "execution_count": 7,
     "metadata": {},
     "output_type": "execute_result"
    }
   ],
   "source": [
    "state = pet.run_tac(state, \"auto.\")\n",
    "state = pet.run_tac(state, \"simpl; auto.\")\n",
    "state"
   ]
  },
  {
   "cell_type": "markdown",
   "metadata": {},
   "source": [
    "# Proof search\n",
    "\n",
    "Adapted from the NeurIPS 2024 tutorial: https://github.com/yangky11/ml4tp-tutorial/blob/main/main.ipynb \n",
    "\n",
    "Let us start with a dummy tactic generator (random sampling in a list of tactics) with random scores for each tactics in $[0, 1]$."
   ]
  },
  {
   "cell_type": "code",
   "execution_count": 20,
   "metadata": {},
   "outputs": [],
   "source": [
    "import random\n",
    "import pytanque as pt\n",
    "from typing import List, Tuple, Optional\n",
    "\n",
    "Tactic = str\n",
    "Proof = List[Tactic]\n",
    "Score = float\n",
    "\n",
    "\n",
    "def generate_tactics(\n",
    "    goal: pt.State, num_candidates: int\n",
    ") -> Tuple[List[str], List[float]]:\n",
    "    tactics = [\n",
    "        \"intros.\",\n",
    "        \"auto.\",\n",
    "        \"simpl.\",\n",
    "        \"induction n.\",\n",
    "        \"easy.\",\n",
    "        \"trivial.\",\n",
    "        \"rewrite IHn.\",\n",
    "        # \"destruct IHn.\",\n",
    "        \"lia.\",\n",
    "    ]\n",
    "    return random.choices(tactics, k=num_candidates), [\n",
    "        random.uniform(0, 1) for _ in range(num_candidates)\n",
    "    ]"
   ]
  },
  {
   "cell_type": "markdown",
   "metadata": {},
   "source": [
    "We can now implement depth-first search to search for proofs."
   ]
  },
  {
   "cell_type": "code",
   "execution_count": 21,
   "metadata": {},
   "outputs": [],
   "source": [
    "import logging\n",
    "\n",
    "logger = logging.getLogger()\n",
    "logger.setLevel(logging.CRITICAL)\n",
    "\n",
    "\n",
    "def depth_first_search(state: pt.State, max_depth: int, num_candidates: int):\n",
    "    run_ops = pt.Opts(memo=False, hash=False)  # deactivate memoization and hashing\n",
    "\n",
    "    def search(state: pt.State, depth: int) -> Optional[Proof]:\n",
    "        if depth >= max_depth:\n",
    "            return None\n",
    "\n",
    "        tactics, _ = generate_tactics(state, num_candidates)\n",
    "\n",
    "        # Run the tactics.\n",
    "        for tac in tactics:\n",
    "            try:\n",
    "                next_state = pet.run_tac(state, tac, run_ops)\n",
    "\n",
    "                if next_state.proof_finished:\n",
    "                    return [tac]\n",
    "\n",
    "                subproof = search(next_state, depth + 1)\n",
    "                if subproof:\n",
    "                    return [tac] + subproof\n",
    "\n",
    "            except pt.PetanqueError as err:\n",
    "                logging.warning(f\"Invalid Tactic: {tac} {err}\")\n",
    "\n",
    "        return None\n",
    "\n",
    "    return search(state, depth=0)"
   ]
  },
  {
   "cell_type": "markdown",
   "metadata": {},
   "source": [
    "Let us try on a simple example."
   ]
  },
  {
   "cell_type": "code",
   "execution_count": 22,
   "metadata": {},
   "outputs": [
    {
     "name": "stdout",
     "output_type": "stream",
     "text": [
      "Proof: trivial. induction n. intros. trivial. auto. auto. destruct IHn. trivial. simpl. auto.\n"
     ]
    }
   ],
   "source": [
    "pre_commands = \"From Coq Require Import Lia.\"\n",
    "state = pet.start(file_name, thm_name, pre_commands)\n",
    "proof = depth_first_search(state, max_depth=10, num_candidates=16)\n",
    "\n",
    "if proof:\n",
    "    print(f\"Proof: {\" \".join(proof)}\")\n",
    "else:\n",
    "    print(\"Not proof found...\")"
   ]
  },
  {
   "cell_type": "markdown",
   "metadata": {},
   "source": [
    "Here is an implementation of best-first search adapted from the 2023 Neural theorem proving tutorial https://github.com/wellecks/ntptutorial"
   ]
  },
  {
   "cell_type": "code",
   "execution_count": 25,
   "metadata": {},
   "outputs": [],
   "source": [
    "import heapq\n",
    "from tqdm import trange\n",
    "\n",
    "\n",
    "def best_first_search(\n",
    "    init_state: pt.State, max_iters: int, num_samples: int\n",
    ") -> Optional[Proof]:\n",
    "    queue = [(0.0, [], init_state)]\n",
    "    visited = set()\n",
    "    for _ in trange(max_iters):\n",
    "        print(\"Queue:\", queue)\n",
    "\n",
    "        if len(queue) == 0:\n",
    "            break\n",
    "\n",
    "        total_score, steps, state = heapq.heappop(queue)\n",
    "        visited.add(state.hash)\n",
    "\n",
    "        step_cands, step_scores = generate_tactics(state, num_samples)\n",
    "        print(step_cands)\n",
    "        print(\"VISITED:\", visited)\n",
    "\n",
    "        for step, score in zip(step_cands, step_scores):\n",
    "            try:\n",
    "                print(f\"try {step}\")\n",
    "                result = pet.run_tac(state, step)\n",
    "                print(result.hash)\n",
    "\n",
    "                if result.proof_finished:\n",
    "                    return steps + [step]\n",
    "\n",
    "                if result.hash not in visited:\n",
    "                    print(f\"Add result of {step} to queue\")\n",
    "                    # Score is negative log probability summed across steps\n",
    "                    new_score = total_score - score\n",
    "                    heapq.heappush(queue, (new_score, steps + [step], result))\n",
    "\n",
    "            except pt.PetanqueError as err:\n",
    "                print(err)\n",
    "                logging.warning(f\"Invalid Tactic: {step} {err}\")\n",
    "    return None"
   ]
  },
  {
   "cell_type": "code",
   "execution_count": 26,
   "metadata": {},
   "outputs": [
    {
     "name": "stderr",
     "output_type": "stream",
     "text": [
      " 10%|█         | 5/50 [00:00<00:00, 172.79it/s]"
     ]
    },
    {
     "name": "stdout",
     "output_type": "stream",
     "text": [
      "Proof: induction n. simpl. trivial. destruct IHn. simpl. auto.\n"
     ]
    },
    {
     "name": "stderr",
     "output_type": "stream",
     "text": [
      "\n"
     ]
    }
   ],
   "source": [
    "init_state = pet.start(file_name, thm_name, pre_commands)\n",
    "proof = best_first_search(init_state, max_iters=10, num_samples=10)\n",
    "\n",
    "if proof:\n",
    "    print(f\"Proof: {\" \".join(proof)}\")\n",
    "else:\n",
    "    print(\"Not proof found...\")"
   ]
  },
  {
   "cell_type": "code",
   "execution_count": null,
   "metadata": {},
   "outputs": [],
   "source": []
  }
 ],
 "metadata": {
  "kernelspec": {
   "display_name": "petanque",
   "language": "python",
   "name": "python3"
  },
  "language_info": {
   "codemirror_mode": {
    "name": "ipython",
    "version": 3
   },
   "file_extension": ".py",
   "mimetype": "text/x-python",
   "name": "python",
   "nbconvert_exporter": "python",
   "pygments_lexer": "ipython3",
   "version": "3.12.2"
  }
 },
 "nbformat": 4,
 "nbformat_minor": 2
}
