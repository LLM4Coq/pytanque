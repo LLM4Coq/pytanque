{
 "cells": [
  {
   "cell_type": "markdown",
   "metadata": {},
   "source": [
    "# Interacting with Coq\n",
    "\n",
    "The `Pytanque` class implements a lightweight client that can communicate with the Rocq prover via the `pet-server`."
   ]
  },
  {
   "cell_type": "code",
   "execution_count": 1,
   "metadata": {},
   "outputs": [],
   "source": [
    "from pytanque import Pytanque"
   ]
  },
  {
   "cell_type": "markdown",
   "metadata": {},
   "source": [
    "First you need to start the server.\n",
    "Instructions can be found in the coq-lsp repo (https://github.com/ejgallego/coq-lsp/tree/main/petanque)\n",
    "\n",
    "Then, you can create a client and connect it to the same address and port.\n",
    "You need to indicate the location of the project (directory containing the `_CoqProject` file, or root directory for the `.v` files)."
   ]
  },
  {
   "cell_type": "code",
   "execution_count": 2,
   "metadata": {},
   "outputs": [],
   "source": [
    "pet = Pytanque(\"127.0.0.1\", 8765)\n",
    "pet.connect()\n",
    "pet.init(root=\".\")\n"
   ]
  },
  {
   "cell_type": "markdown",
   "metadata": {},
   "source": [
    "Petanque relies on regular coq files.\n",
    "To prove an existing theorem, just indicate the location of the `.v` file and the name of the theorem."
   ]
  },
  {
   "cell_type": "code",
   "execution_count": 3,
   "metadata": {},
   "outputs": [],
   "source": [
    "pet.start(file=\"./foo.v\", thm=\"addnC\")"
   ]
  },
  {
   "cell_type": "markdown",
   "metadata": {},
   "source": [
    "Internally the state is a simple `id`.\n",
    "To retrieve the state of the prover, you can use the `goals` method."
   ]
  },
  {
   "cell_type": "code",
   "execution_count": 4,
   "metadata": {},
   "outputs": [
    {
     "name": "stdout",
     "output_type": "stream",
     "text": [
      "Internal pytanque state: 13\n",
      "Prover goals: GoalsResponse(goals=[Goal(info={'evar': ['Ser_Evar', 12], 'name': None}, hyps=[GoalHyp(names=['n', 'm'], ty='nat', def_=None)], ty='n + m = m + n')])\n",
      "\n",
      "n, m  : nat\n",
      "-----------------------------\n",
      "n + m = m + n\n",
      "\n",
      "\n",
      "\n"
     ]
    }
   ],
   "source": [
    "g = pet.current_state()\n",
    "print(f\"Internal pytanque state: {g}\")\n",
    "\n",
    "goals = pet.goals() # Retrieve actual state\n",
    "print(f\"Prover goals: {goals}\\n\")\n",
    "goals.pp() # Pretty print the current goals"
   ]
  },
  {
   "cell_type": "markdown",
   "metadata": {},
   "source": [
    "To execute a tactic, use the `run_tac` method."
   ]
  },
  {
   "cell_type": "code",
   "execution_count": 5,
   "metadata": {},
   "outputs": [
    {
     "name": "stdout",
     "output_type": "stream",
     "text": [
      "m  : nat\n",
      "-----------------------------\n",
      "0 + m = m + 0\n",
      "\n",
      "\n",
      "\n",
      "n, m  : nat\n",
      "IHn  : n + m = m + n\n",
      "-----------------------------\n",
      "S n + m = m + S n\n",
      "\n",
      "\n",
      "\n"
     ]
    }
   ],
   "source": [
    "pet.run_tac(\"induction n.\")\n",
    "goals = pet.goals()\n",
    "goals.pp()"
   ]
  },
  {
   "cell_type": "markdown",
   "metadata": {},
   "source": [
    "You can always undo a tactic with the `backtrack` method, or restart the entire proof of the current theorem with `reset`."
   ]
  },
  {
   "cell_type": "code",
   "execution_count": 6,
   "metadata": {},
   "outputs": [
    {
     "name": "stdout",
     "output_type": "stream",
     "text": [
      "Undo induction n., back to 14\n"
     ]
    }
   ],
   "source": [
    "(st, tac) = pet.backtrack()\n",
    "print(f\"Undo {tac}, back to {st}\")"
   ]
  },
  {
   "cell_type": "code",
   "execution_count": 7,
   "metadata": {},
   "outputs": [
    {
     "data": {
      "text/plain": [
       "ProofFinished(value=16)"
      ]
     },
     "execution_count": 7,
     "metadata": {},
     "output_type": "execute_result"
    }
   ],
   "source": [
    "pet.reset()\n",
    "pet.run_tac(\"by elim: n => //= ? ->.\")"
   ]
  },
  {
   "cell_type": "code",
   "execution_count": null,
   "metadata": {},
   "outputs": [],
   "source": []
  }
 ],
 "metadata": {
  "kernelspec": {
   "display_name": "petanque",
   "language": "python",
   "name": "python3"
  },
  "language_info": {
   "codemirror_mode": {
    "name": "ipython",
    "version": 3
   },
   "file_extension": ".py",
   "mimetype": "text/x-python",
   "name": "python",
   "nbconvert_exporter": "python",
   "pygments_lexer": "ipython3",
   "version": "3.12.2"
  }
 },
 "nbformat": 4,
 "nbformat_minor": 2
}
