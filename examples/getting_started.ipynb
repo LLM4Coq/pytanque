{
 "cells": [
  {
   "cell_type": "markdown",
   "metadata": {},
   "source": [
    "# Interacting with Coq\n",
    "\n",
    "The `Pytanque` class implements a lightweight client that can communicate with the Rocq prover via the `pet-server`."
   ]
  },
  {
   "cell_type": "code",
   "execution_count": 10,
   "metadata": {},
   "outputs": [],
   "source": [
    "from pytanque import Pytanque"
   ]
  },
  {
   "cell_type": "markdown",
   "metadata": {},
   "source": [
    "First you need to start the server.\n",
    "Instructions can be found in the coq-lsp repo (https://github.com/ejgallego/coq-lsp/tree/main/petanque)\n",
    "\n",
    "Then, you can create a client and connect it to the same address and port.\n",
    "You need to indicate the location of the project (directory containing the `_CoqProject` file, or root directory for the `.v` files)."
   ]
  },
  {
   "cell_type": "code",
   "execution_count": 11,
   "metadata": {},
   "outputs": [],
   "source": [
    "pet = Pytanque(\"127.0.0.1\", 8765)\n",
    "pet.connect()\n",
    "env = pet.init(root=\".\")"
   ]
  },
  {
   "cell_type": "markdown",
   "metadata": {},
   "source": [
    "Petanque relies on regular coq files.\n",
    "To prove an existing theorem, just indicate the location of the `.v` file and the name of the theorem."
   ]
  },
  {
   "cell_type": "code",
   "execution_count": 12,
   "metadata": {},
   "outputs": [],
   "source": [
    "state = pet.start(file=\"./foo.v\", thm=\"addnC\")"
   ]
  },
  {
   "cell_type": "markdown",
   "metadata": {},
   "source": [
    "Internally the state is a simple `id`.\n",
    "To retrieve the state of the prover, you can use the `goals` method."
   ]
  },
  {
   "cell_type": "code",
   "execution_count": 13,
   "metadata": {},
   "outputs": [
    {
     "name": "stdout",
     "output_type": "stream",
     "text": [
      "Internal pytanque state: CurrentState(value=7)\n",
      "Prover goals: GoalsResponse(goals=[Goal(info={'evar': ['Ser_Evar', 12], 'name': None}, hyps=[GoalHyp(names=['n', 'm'], ty='nat', def_=None)], ty='n + m = m + n')])\n",
      "\n",
      "n, m  : nat\n",
      "-----------------------------\n",
      "n + m = m + n\n",
      "\n",
      "\n",
      "\n"
     ]
    }
   ],
   "source": [
    "print(f\"Internal pytanque state: {state}\")\n",
    "\n",
    "goals = pet.goals(state)  # Retrieve actual state\n",
    "print(f\"Prover goals: {goals}\\n\")\n",
    "goals.pp()  # Pretty print the current goals"
   ]
  },
  {
   "cell_type": "markdown",
   "metadata": {},
   "source": [
    "To execute a tactic, use the `run_tac` method."
   ]
  },
  {
   "cell_type": "code",
   "execution_count": 14,
   "metadata": {},
   "outputs": [
    {
     "name": "stdout",
     "output_type": "stream",
     "text": [
      "m  : nat\n",
      "-----------------------------\n",
      "0 + m = m + 0\n",
      "\n",
      "\n",
      "\n",
      "n, m  : nat\n",
      "IHn  : n + m = m + n\n",
      "-----------------------------\n",
      "S n + m = m + S n\n",
      "\n",
      "\n",
      "\n"
     ]
    }
   ],
   "source": [
    "state = pet.run_tac(state, \"induction n.\")\n",
    "goals = pet.goals(state)\n",
    "goals.pp()"
   ]
  },
  {
   "cell_type": "markdown",
   "metadata": {},
   "source": [
    "If the proof is finished (no more goal) the state becomes `ProofFinished`"
   ]
  },
  {
   "cell_type": "code",
   "execution_count": 15,
   "metadata": {},
   "outputs": [
    {
     "data": {
      "text/plain": [
       "ProofFinished(value=10)"
      ]
     },
     "execution_count": 15,
     "metadata": {},
     "output_type": "execute_result"
    }
   ],
   "source": [
    "state = pet.start(file=\"./foo.v\", thm=\"addnC\")\n",
    "state = pet.run_tac(state, \"by elim: n => //= ? ->.\")\n",
    "state"
   ]
  },
  {
   "cell_type": "markdown",
   "metadata": {},
   "source": [
    "# Proof search\n",
    "\n",
    "Adapted from the NeurIPS 2024 tuorial: https://github.com/yangky11/ml4tp-tutorial/blob/main/main.ipynb \n",
    "\n",
    "Let us start with a dummy tactic generator (random sampling in a list of tactics)."
   ]
  },
  {
   "cell_type": "code",
   "execution_count": 16,
   "metadata": {},
   "outputs": [],
   "source": [
    "import random\n",
    "\n",
    "\n",
    "def generate_tactics(goal: str, num_candidates: int):\n",
    "    tactics = [\n",
    "        \"intros.\",\n",
    "        \"auto.\",\n",
    "        \"simpl.\",\n",
    "        \"induction n.\",\n",
    "        \"easy.\",\n",
    "        \"trivial.\",\n",
    "        \"rewrite IHn.\",\n",
    "    ]\n",
    "    return random.choices(tactics, k=num_candidates)"
   ]
  },
  {
   "cell_type": "markdown",
   "metadata": {},
   "source": [
    "We can now implement depth-first search to search for proofs."
   ]
  },
  {
   "cell_type": "code",
   "execution_count": 17,
   "metadata": {},
   "outputs": [],
   "source": [
    "from typing import List, Optional\n",
    "import pytanque as pt\n",
    "\n",
    "Tactic = str\n",
    "Proof = List[Tactic]\n",
    "\n",
    "num_candidates = 16\n",
    "depth_limit = 3\n",
    "\n",
    "\n",
    "def dfs_search(state, depth: int) -> Optional[Proof]:\n",
    "    \"\"\"Try to prove `state` using depth-first search (DFS).\"\"\"\n",
    "    if depth >= depth_limit:\n",
    "        return None\n",
    "\n",
    "    tactics = generate_tactics(state, num_candidates)\n",
    "\n",
    "    # Run the tactics.\n",
    "    for tac in tactics:\n",
    "        try:\n",
    "            next_state = pet.run_tac(state, tac)\n",
    "            match next_state:\n",
    "                case pt.ProofFinished(st):\n",
    "                    return [tac]\n",
    "                case pt.CurrentState(st):\n",
    "                    subproof = dfs_search(next_state, depth + 1)\n",
    "                    if subproof:\n",
    "                        return [tac] + subproof\n",
    "        except pt.PetanqueError:\n",
    "            pass\n",
    "    return []"
   ]
  },
  {
   "cell_type": "markdown",
   "metadata": {},
   "source": [
    "Let us try on a simple example."
   ]
  },
  {
   "cell_type": "code",
   "execution_count": 18,
   "metadata": {},
   "outputs": [
    {
     "name": "stdout",
     "output_type": "stream",
     "text": [
      "Proof: intros. intros. auto.\n"
     ]
    }
   ],
   "source": [
    "state = pet.start(file=\"./foo.v\", thm=\"t\")\n",
    "proof = dfs_search(state, depth=0)\n",
    "\n",
    "if proof:\n",
    "    print(f\"Proof: {\" \".join(proof)}\")\n",
    "else:\n",
    "    print(\"Not proof found...\")"
   ]
  },
  {
   "cell_type": "code",
   "execution_count": null,
   "metadata": {},
   "outputs": [],
   "source": []
  }
 ],
 "metadata": {
  "kernelspec": {
   "display_name": "petanque",
   "language": "python",
   "name": "python3"
  },
  "language_info": {
   "codemirror_mode": {
    "name": "ipython",
    "version": 3
   },
   "file_extension": ".py",
   "mimetype": "text/x-python",
   "name": "python",
   "nbconvert_exporter": "python",
   "pygments_lexer": "ipython3",
   "version": "3.12.2"
  }
 },
 "nbformat": 4,
 "nbformat_minor": 2
}
