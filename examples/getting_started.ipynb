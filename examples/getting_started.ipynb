{
 "cells": [
  {
   "cell_type": "markdown",
   "metadata": {},
   "source": [
    "# Interacting with Coq\n",
    "\n",
    "The `Pytanque` class implements a lightweight client that can communicate with the Rocq prover via the `pet-server`."
   ]
  },
  {
   "cell_type": "code",
   "execution_count": 1,
   "metadata": {},
   "outputs": [],
   "source": [
    "from pytanque import Pytanque"
   ]
  },
  {
   "cell_type": "markdown",
   "metadata": {},
   "source": [
    "First you need to start the server.\n",
    "Instructions can be found in the coq-lsp repo (https://github.com/ejgallego/coq-lsp/tree/main/petanque)\n",
    "\n",
    "Then, you can create a client and connect it to the same address and port."
   ]
  },
  {
   "cell_type": "code",
   "execution_count": 2,
   "metadata": {},
   "outputs": [],
   "source": [
    "pet = Pytanque(\"127.0.0.1\", 8765)\n",
    "pet.connect()"
   ]
  },
  {
   "cell_type": "markdown",
   "metadata": {},
   "source": [
    "Petanque relies on regular coq files.\n",
    "To prove an existing theorem, just indicate the location of the `.v` file and the name of the theorem."
   ]
  },
  {
   "cell_type": "code",
   "execution_count": 3,
   "metadata": {},
   "outputs": [],
   "source": [
    "file_name = \"scratch.v\"\n",
    "thm_name = \"test\"\n",
    "thm_body = \"n : 2 * n = n + n\"\n",
    "\n",
    "with open(f\"./{file_name}\", 'w') as file:\n",
    "    print(f\"Lemma {thm_name} {thm_body}.\", file=file)\n",
    "\n",
    "\n",
    "state = pet.start(file=file_name, thm=thm_name)"
   ]
  },
  {
   "cell_type": "markdown",
   "metadata": {},
   "source": [
    "Internally the state is a simple `id`.\n",
    "To retrieve the state of the prover, you can use the `goals` method."
   ]
  },
  {
   "cell_type": "code",
   "execution_count": 4,
   "metadata": {},
   "outputs": [
    {
     "name": "stdout",
     "output_type": "stream",
     "text": [
      "Internal pytanque state: CurrentState(value=1)\n",
      "Prover goals: GoalsResponse(goals=[Goal(info={'evar': ['Ser_Evar', 4], 'name': None}, hyps=[GoalHyp(names=['n'], ty='nat', def_=None)], ty='2 * n = n + n')])\n",
      "\n",
      "n  : nat\n",
      "-----------------------------\n",
      "2 * n = n + n\n"
     ]
    }
   ],
   "source": [
    "print(f\"Internal pytanque state: {state}\")\n",
    "\n",
    "goals = pet.goals(state)  # Retrieve actual state\n",
    "print(f\"Prover goals: {goals}\\n\")\n",
    "print(goals.pp())  # Pretty print the current goals"
   ]
  },
  {
   "cell_type": "markdown",
   "metadata": {},
   "source": [
    "To execute a tactic, use the `run_tac` method."
   ]
  },
  {
   "cell_type": "code",
   "execution_count": 5,
   "metadata": {},
   "outputs": [
    {
     "name": "stdout",
     "output_type": "stream",
     "text": [
      "\n",
      "-----------------------------\n",
      "2 * 0 = 0 + 0\n",
      "\n",
      "n  : nat\n",
      "IHn  : 2 * n = n + n\n",
      "-----------------------------\n",
      "2 * S n = S n + S n\n"
     ]
    }
   ],
   "source": [
    "state = pet.run_tac(state, \"induction n.\")\n",
    "goals = pet.goals(state)\n",
    "print(goals.pp())"
   ]
  },
  {
   "cell_type": "markdown",
   "metadata": {},
   "source": [
    "If the proof is finished (no more goal) the state becomes `ProofFinished`"
   ]
  },
  {
   "cell_type": "code",
   "execution_count": 6,
   "metadata": {},
   "outputs": [
    {
     "data": {
      "text/plain": [
       "CurrentState(value=4)"
      ]
     },
     "execution_count": 6,
     "metadata": {},
     "output_type": "execute_result"
    }
   ],
   "source": [
    "state = pet.run_tac(state, \"auto.\")\n",
    "state = pet.run_tac(state, \"auto.\")\n",
    "state"
   ]
  },
  {
   "cell_type": "markdown",
   "metadata": {},
   "source": [
    "# Proof search\n",
    "\n",
    "Adapted from the NeurIPS 2024 tutorial: https://github.com/yangky11/ml4tp-tutorial/blob/main/main.ipynb \n",
    "\n",
    "Let us start with a dummy tactic generator (random sampling in a list of tactics) with random scores for each tactics in $[0, 1]$."
   ]
  },
  {
   "cell_type": "code",
   "execution_count": 7,
   "metadata": {},
   "outputs": [],
   "source": [
    "import random\n",
    "import pytanque as pt\n",
    "from typing import List, Tuple, Optional\n",
    "\n",
    "Tactic = str\n",
    "Proof = List[Tactic]\n",
    "Score = float\n",
    "\n",
    "\n",
    "def generate_tactics(goal: pt.State, num_candidates: int) -> Tuple[List[str], List[float]]:\n",
    "    tactics = [\n",
    "        \"intros.\",\n",
    "        \"auto.\",\n",
    "        \"simpl.\",\n",
    "        \"induction n.\",\n",
    "        \"easy.\",\n",
    "        \"trivial.\",\n",
    "        \"rewrite IHn.\",\n",
    "    ]\n",
    "    return random.choices(tactics, k=num_candidates), [\n",
    "        random.uniform(0, 1) for _ in range(num_candidates)\n",
    "    ]"
   ]
  },
  {
   "cell_type": "markdown",
   "metadata": {},
   "source": [
    "We can now implement depth-first search to search for proofs."
   ]
  },
  {
   "cell_type": "code",
   "execution_count": 8,
   "metadata": {},
   "outputs": [],
   "source": [
    "num_candidates = 16\n",
    "depth_limit = 3\n",
    "\n",
    "\n",
    "def depth_first_search(state: pt.State, depth: int) -> Optional[Proof]:\n",
    "    \"\"\"Try to prove `state` using depth-first search (DFS).\"\"\"\n",
    "    if depth >= depth_limit:\n",
    "        return None\n",
    "\n",
    "    tactics, _ = generate_tactics(state, num_candidates)\n",
    "\n",
    "    # Run the tactics.\n",
    "    for tac in tactics:\n",
    "        try:\n",
    "            next_state = pet.run_tac(state, tac)\n",
    "            match next_state:\n",
    "                case pt.ProofFinished(st):\n",
    "                    return [tac]\n",
    "                case pt.CurrentState(st):\n",
    "                    subproof = depth_first_search(next_state, depth + 1)\n",
    "                    if subproof:\n",
    "                        return [tac] + subproof\n",
    "        except pt.PetanqueError:\n",
    "            pass\n",
    "    return None"
   ]
  },
  {
   "cell_type": "markdown",
   "metadata": {},
   "source": [
    "Let us try on a simple example."
   ]
  },
  {
   "cell_type": "code",
   "execution_count": 9,
   "metadata": {},
   "outputs": [
    {
     "name": "stdout",
     "output_type": "stream",
     "text": [
      "Proof: intros. simpl. auto.\n"
     ]
    }
   ],
   "source": [
    "state = pet.start(file=file_name, thm=thm_name)\n",
    "proof = depth_first_search(state, depth=0)\n",
    "\n",
    "if proof:\n",
    "    print(f\"Proof: {\" \".join(proof)}\")\n",
    "else:\n",
    "    print(\"Not proof found...\")"
   ]
  },
  {
   "cell_type": "markdown",
   "metadata": {},
   "source": [
    "Here is an implementation of best-first search adapted from the 2023 Neural theorem proving tutorial https://github.com/wellecks/ntptutorial"
   ]
  },
  {
   "cell_type": "code",
   "execution_count": 10,
   "metadata": {},
   "outputs": [],
   "source": [
    "import heapq\n",
    "from tqdm import trange\n",
    "import logging\n",
    "\n",
    "def best_first_search(init_state: pt.State, max_iters: int, num_samples: int) -> Optional[Proof]:\n",
    "    queue = [(0.0, [], init_state)]\n",
    "    visited = set()\n",
    "    for _ in trange(max_iters):\n",
    "        if len(queue) == 0:\n",
    "            break\n",
    "\n",
    "        total_score, steps, state = heapq.heappop(queue)\n",
    "        goals = pet.goals(state)\n",
    "        visited.add(goals.pp())\n",
    "\n",
    "        step_cands, step_scores = generate_tactics(state, num_samples)\n",
    "\n",
    "        for step, score in zip(step_cands, step_scores):\n",
    "            try:\n",
    "                result = pet.run_tac(state, step)\n",
    "                match result:\n",
    "                    case pt.ProofFinished():\n",
    "                        return steps + [step]\n",
    "                    case pt.CurrentState():\n",
    "                        next_goals = pet.goals(result)\n",
    "                        if next_goals.pp() not in visited:\n",
    "                            # Score is negative log probability summed across steps\n",
    "                            new_score = total_score - score\n",
    "                            heapq.heappush(queue, (new_score, steps + [step], result))\n",
    "            except pt.PetanqueError as err:\n",
    "                logging.warning(f\"Invalid Tactic: {step} {err}\")\n",
    "    return None"
   ]
  },
  {
   "cell_type": "code",
   "execution_count": 11,
   "metadata": {},
   "outputs": [
    {
     "name": "stderr",
     "output_type": "stream",
     "text": [
      "  0%|          | 0/20 [00:00<?, ?it/s]WARNING:root:Invalid Tactic: rewrite IHn. Error(code=-32003, message='Coq: The variable IHn was not found in the current environment.')\n",
      "WARNING:root:Invalid Tactic: rewrite IHn. Error(code=-32003, message='Coq: The variable IHn was not found in the current environment.')\n",
      "WARNING:root:Invalid Tactic: rewrite IHn. Error(code=-32003, message='Coq: The variable IHn was not found in the current environment.')\n",
      " 10%|█         | 2/20 [00:00<00:00, 353.31it/s]"
     ]
    },
    {
     "name": "stdout",
     "output_type": "stream",
     "text": [
      "Proof: simpl. auto.\n"
     ]
    },
    {
     "name": "stderr",
     "output_type": "stream",
     "text": [
      "\n"
     ]
    }
   ],
   "source": [
    "state = pet.start(file=file_name, thm=thm_name)\n",
    "proof = best_first_search(state, max_iters=20, num_samples=5)\n",
    "\n",
    "if proof:\n",
    "    print(f\"Proof: {\" \".join(proof)}\")\n",
    "else:\n",
    "    print(\"Not proof found...\")"
   ]
  },
  {
   "cell_type": "code",
   "execution_count": null,
   "metadata": {},
   "outputs": [],
   "source": []
  }
 ],
 "metadata": {
  "kernelspec": {
   "display_name": "petanque",
   "language": "python",
   "name": "python3"
  },
  "language_info": {
   "codemirror_mode": {
    "name": "ipython",
    "version": 3
   },
   "file_extension": ".py",
   "mimetype": "text/x-python",
   "name": "python",
   "nbconvert_exporter": "python",
   "pygments_lexer": "ipython3",
   "version": "3.12.2"
  }
 },
 "nbformat": 4,
 "nbformat_minor": 2
}
