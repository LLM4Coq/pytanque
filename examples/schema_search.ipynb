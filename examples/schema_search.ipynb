{
 "cells": [
  {
   "cell_type": "code",
   "execution_count": 1,
   "metadata": {},
   "outputs": [],
   "source": [
    "import pytanque as pt\n",
    "from pytanque import Pytanque\n",
    "import pytanque.schemas as sch\n",
    "\n",
    "pet = Pytanque(\"127.0.0.1\", 8754)\n",
    "pet.connect()"
   ]
  },
  {
   "cell_type": "code",
   "execution_count": 2,
   "metadata": {},
   "outputs": [],
   "source": [
    "# Excerpt from Software Foundation Vol. 3. \n",
    "# https://softwarefoundations.cis.upenn.edu/vfa-current/Sort.html\n",
    "\n",
    "context = \"\"\"\n",
    "From Coq Require Import Strings.String.  (* for manual grading *)\n",
    "From Coq Require Export Bool.Bool.\n",
    "From Coq Require Export Arith.Arith.\n",
    "From Coq Require Export Arith.PeanoNat.\n",
    "From Coq Require Export Arith.EqNat.\n",
    "From Coq Require Export Lia.\n",
    "From Coq Require Export Lists.List.\n",
    "Export ListNotations.\n",
    "From Coq Require Export Permutation.\n",
    "\n",
    "Fixpoint insert (i : nat) (l : list nat) :=\n",
    "  match l with\n",
    "  | [] => [i]\n",
    "  | h :: t => if i <=? h then i :: h :: t else h :: insert i t\n",
    "  end.\n",
    "\n",
    "Fixpoint sort (l : list nat) : list nat :=\n",
    "  match l with\n",
    "  | [] => []\n",
    "  | h :: t => insert h (sort t)\n",
    "  end.\n",
    "\n",
    "Inductive sorted : list nat -> Prop :=\n",
    "| sorted_nil :\n",
    "    sorted []\n",
    "| sorted_1 : forall x,\n",
    "    sorted [x]\n",
    "| sorted_cons : forall x y l,\n",
    "    x <= y -> sorted (y :: l) -> sorted (x :: y :: l).\n",
    "\"\"\"\n",
    "\n",
    "goal = \"\"\"\n",
    "----------------------------------------------------------------\n",
    "forall (a : nat) (l : list nat), sorted l -> sorted (insert a l)\n",
    "\"\"\""
   ]
  },
  {
   "cell_type": "code",
   "execution_count": 5,
   "metadata": {},
   "outputs": [
    {
     "name": "stdout",
     "output_type": "stream",
     "text": [
      "\n",
      "Assistant:\n",
      "\n",
      " ```\n",
      "intros.\n",
      "induction l.\n",
      "- simpl. constructor.\n",
      "- simpl. destruct (a <=? a0) eqn:Heq.\n",
      "  + constructor.\n",
      "    * apply Nat.leb_le in Heq. assumption.\n",
      "    * assumption.\n",
      "  + inversion H; subst; clear H.\n",
      "    * constructor.\n",
      "      { apply Nat.leb_nle in Heq. lia. }\n",
      "      { constructor. }\n",
      "    * specialize (IHl H3). simpl in IHl. destruct (a <=? y) eqn:Heq'.\n",
      "      { constructor.\n",
      "        - apply Nat.leb_le in Heq'. assumption.\n",
      "        - assumption. }\n",
      "      { constructor.\n",
      "        - apply Nat.leb_nle in Heq'. lia.\n",
      "        - assumption. }\n",
      "```\n"
     ]
    },
    {
     "data": {
      "text/plain": [
       "intros. induction l. \n",
       " - simpl. constructor. \n",
       " - simpl. destruct (a <=? a0) eqn:Heq. \n",
       " + constructor. \n",
       " * apply Nat.leb_le in Heq. assumption. \n",
       " * assumption. \n",
       " + inversion H; subst; clear H. \n",
       " * constructor. { apply Nat.leb_nle in Heq. lia. } { constructor. } \n",
       " * specialize (IHl H3). simpl in IHl. destruct (a <=? y) eqn:Heq'. { { admit. } } { admit. }"
      ]
     },
     "execution_count": 5,
     "metadata": {},
     "output_type": "execute_result"
    }
   ],
   "source": [
    "agent = sch.GPTAgent(pet)\n",
    "init_state = pet.start(file=\"verified_sort.v\", thm=\"insert_sorted\")\n",
    "\n",
    "agent.start(context, init_state)"
   ]
  },
  {
   "cell_type": "code",
   "execution_count": 6,
   "metadata": {},
   "outputs": [
    {
     "name": "stdout",
     "output_type": "stream",
     "text": [
      "\n",
      "User:\n",
      "\n",
      " \n",
      "Now the goal is:\n",
      "```\n",
      "a, a0, y  : nat\n",
      "l0  : list nat\n",
      "Heq'  : (a <=? y) = true\n",
      "IHl  : sorted (a :: y :: l0)\n",
      "Heq  : (a <=? a0) = false\n",
      "H2  : a0 <= y\n",
      "H3  : sorted (y :: l0)\n",
      "-----------------------------\n",
      "sorted (a0 :: insert a (y :: l0))\n",
      "```\n",
      "What is the proof?\n",
      "\n",
      "\n",
      "Assistant:\n",
      "\n",
      " ```\n",
      "simpl. rewrite Heq'. constructor.\n",
      "- assumption.\n",
      "- assumption.\n",
      "```\n",
      "\n",
      "User:\n",
      "\n",
      " \n",
      "Now the goal is:\n",
      "```\n",
      "a, a0, y  : nat\n",
      "l0  : list nat\n",
      "Heq'  : (a <=? y) = false\n",
      "IHl  : sorted (y :: insert a l0)\n",
      "Heq  : (a <=? a0) = false\n",
      "H2  : a0 <= y\n",
      "H3  : sorted (y :: l0)\n",
      "-----------------------------\n",
      "sorted (a0 :: insert a (y :: l0))\n",
      "```\n",
      "What is the proof?\n",
      "\n",
      "\n",
      "Assistant:\n",
      "\n",
      " ```\n",
      "simpl. rewrite Heq'. constructor.\n",
      "- assumption.\n",
      "- assumption.\n",
      "```\n"
     ]
    },
    {
     "data": {
      "text/plain": [
       "intros. induction l. \n",
       " - simpl. constructor. \n",
       " - simpl. destruct (a <=? a0) eqn:Heq. \n",
       " + constructor. \n",
       " * apply Nat.leb_le in Heq. assumption. \n",
       " * assumption. \n",
       " + inversion H; subst; clear H. \n",
       " * constructor. { apply Nat.leb_nle in Heq. lia. } { constructor. } \n",
       " * specialize (IHl H3). simpl in IHl. destruct (a <=? y) eqn:Heq'. { { simpl. rewrite Heq'. constructor. \n",
       " - { admit. } \n",
       " - assumption. } } { simpl. rewrite Heq'. constructor. \n",
       " - assumption. \n",
       " - assumption. }"
      ]
     },
     "execution_count": 6,
     "metadata": {},
     "output_type": "execute_result"
    }
   ],
   "source": [
    "agent.next()"
   ]
  },
  {
   "cell_type": "code",
   "execution_count": 7,
   "metadata": {},
   "outputs": [
    {
     "name": "stdout",
     "output_type": "stream",
     "text": [
      "\n",
      "User:\n",
      "\n",
      " \n",
      "Now the goal is:\n",
      "```\n",
      "a, a0, y  : nat\n",
      "l0  : list nat\n",
      "Heq'  : (a <=? y) = true\n",
      "IHl  : sorted (a :: y :: l0)\n",
      "Heq  : (a <=? a0) = false\n",
      "H2  : a0 <= y\n",
      "H3  : sorted (y :: l0)\n",
      "-----------------------------\n",
      "a0 <= a\n",
      "```\n",
      "What is the proof?\n",
      "\n",
      "\n",
      "Assistant:\n",
      "\n",
      " ```\n",
      "apply Nat.leb_nle in Heq. lia.\n",
      "```\n"
     ]
    },
    {
     "data": {
      "text/plain": [
       "intros. induction l. \n",
       " - simpl. constructor. \n",
       " - simpl. destruct (a <=? a0) eqn:Heq. \n",
       " + constructor. \n",
       " * apply Nat.leb_le in Heq. assumption. \n",
       " * assumption. \n",
       " + inversion H; subst; clear H. \n",
       " * constructor. { apply Nat.leb_nle in Heq. lia. } { constructor. } \n",
       " * specialize (IHl H3). simpl in IHl. destruct (a <=? y) eqn:Heq'. { { simpl. rewrite Heq'. constructor. \n",
       " - { apply Nat.leb_nle in Heq. lia. } \n",
       " - assumption. } } { simpl. rewrite Heq'. constructor. \n",
       " - assumption. \n",
       " - assumption. }"
      ]
     },
     "execution_count": 7,
     "metadata": {},
     "output_type": "execute_result"
    }
   ],
   "source": [
    "agent.next()"
   ]
  },
  {
   "cell_type": "code",
   "execution_count": null,
   "metadata": {},
   "outputs": [],
   "source": []
  }
 ],
 "metadata": {
  "kernelspec": {
   "display_name": "petanque",
   "language": "python",
   "name": "python3"
  },
  "language_info": {
   "codemirror_mode": {
    "name": "ipython",
    "version": 3
   },
   "file_extension": ".py",
   "mimetype": "text/x-python",
   "name": "python",
   "nbconvert_exporter": "python",
   "pygments_lexer": "ipython3",
   "version": "3.12.2"
  }
 },
 "nbformat": 4,
 "nbformat_minor": 2
}
