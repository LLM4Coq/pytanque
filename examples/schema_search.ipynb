{
 "cells": [
  {
   "cell_type": "code",
   "execution_count": 1,
   "metadata": {},
   "outputs": [],
   "source": [
    "import pytanque as pt\n",
    "from pytanque import Pytanque\n",
    "import pytanque.schema as sch\n",
    "import pytanque.gpt_agent2 as gpt\n",
    "\n",
    "pet = Pytanque(\"127.0.0.1\", 8765)\n",
    "pet.connect()"
   ]
  },
  {
   "cell_type": "code",
   "execution_count": 2,
   "metadata": {},
   "outputs": [],
   "source": [
    "# Excerpt from Software Foundation Vol. 3.\n",
    "# https://softwarefoundations.cis.upenn.edu/vfa-current/Sort.html\n",
    "\n",
    "context = \"\"\"\n",
    "From Coq Require Import Strings.String.  (* for manual grading *)\n",
    "From Coq Require Export Bool.Bool.\n",
    "From Coq Require Export Arith.Arith.\n",
    "From Coq Require Export Arith.PeanoNat.\n",
    "From Coq Require Export Arith.EqNat.\n",
    "From Coq Require Export Lia.\n",
    "From Coq Require Export Lists.List.\n",
    "Export ListNotations.\n",
    "From Coq Require Export Permutation.\n",
    "\n",
    "Fixpoint insert (i : nat) (l : list nat) :=\n",
    "  match l with\n",
    "  | [] => [i]\n",
    "  | h :: t => if i <=? h then i :: h :: t else h :: insert i t\n",
    "  end.\n",
    "\n",
    "Fixpoint sort (l : list nat) : list nat :=\n",
    "  match l with\n",
    "  | [] => []\n",
    "  | h :: t => insert h (sort t)\n",
    "  end.\n",
    "\n",
    "Inductive sorted : list nat -> Prop :=\n",
    "| sorted_nil :\n",
    "    sorted []\n",
    "| sorted_1 : forall x,\n",
    "    sorted [x]\n",
    "| sorted_cons : forall x y l,\n",
    "    x <= y -> sorted (y :: l) -> sorted (x :: y :: l).\n",
    "\"\"\"\n",
    "\n",
    "goal = \"\"\"\n",
    "----------------------------------------------------------------\n",
    "forall (a : nat) (l : list nat), sorted l -> sorted (insert a l)\n",
    "\"\"\""
   ]
  },
  {
   "cell_type": "code",
   "execution_count": 3,
   "metadata": {},
   "outputs": [
    {
     "data": {
      "text/plain": [
       "{ intros a l H. induction H as [| x | x y t Hxy Hsorted IHsorted]. \n",
       " - simpl. constructor. \n",
       " - simpl. destruct (a <=? x) eqn: Hle. \n",
       " + constructor. admit. admit. \n",
       " + constructor; try lia. admit. admit. \n",
       " - simpl. destruct (a <=? x) eqn: Hle. \n",
       " + constructor; try lia. admit. admit. \n",
       " + admit. }"
      ]
     },
     "execution_count": 3,
     "metadata": {},
     "output_type": "execute_result"
    }
   ],
   "source": [
    "agent = gpt.GPTAgent(pet)\n",
    "init_state = pet.start(file=\"verified_sort.v\", thm=\"insert_sorted\")\n",
    "\n",
    "agent.start(context, init_state)"
   ]
  },
  {
   "cell_type": "code",
   "execution_count": 4,
   "metadata": {},
   "outputs": [
    {
     "name": "stdout",
     "output_type": "stream",
     "text": [
      "Trying:\n",
      " apply Nat.leb_complete. assumption.\n",
      "Qed.\n",
      "\n",
      "Got:\n",
      " admit.\n",
      "\n",
      "Trying:\n",
      " apply sorted_1.\n",
      "Qed.\n",
      "\n",
      "Got:\n",
      " { apply sorted_1. }\n",
      "\n",
      "Trying:\n",
      " apply Nat.leb_complete_conv. assumption.\n",
      "Qed.\n",
      "\n",
      "Got:\n",
      " admit.\n",
      "\n",
      "Trying:\n",
      " apply sorted_1.\n",
      "Qed.\n",
      "\n",
      "Got:\n",
      " { apply sorted_1. }\n",
      "\n",
      "Trying:\n",
      " apply Nat.leb_complete. assumption.\n",
      "Qed.\n",
      "\n",
      "Got:\n",
      " admit.\n",
      "\n",
      "Trying:\n",
      " apply sorted_cons.\n",
      "- apply Hxy.\n",
      "- apply Hsorted.\n",
      "Qed.\n",
      "\n",
      "Got:\n",
      " { apply sorted_cons. \n",
      " - apply Hxy. \n",
      " - apply Hsorted. }\n",
      "\n",
      "Trying:\n",
      " destruct (a <=? y) eqn:Hleay.\n",
      "- (* Case: a <= y *)\n",
      "  apply sorted_cons.\n",
      "  + apply Nat.leb_complete_conv in Hle. lia.\n",
      "  + apply sorted_cons.\n",
      "    * apply Nat.leb_complete; assumption.\n",
      "    * assumption.\n",
      "- (* Case: a > y *)\n",
      "  apply sorted_cons.\n",
      "  + assumption.\n",
      "  + apply IHsorted.\n",
      "Qed.\n",
      "\n",
      "Got:\n",
      " { destruct (a <=? y) eqn:Hleay. \n",
      " - apply sorted_cons. \n",
      " + admit. \n",
      " + admit. \n",
      " - \n",
      " + apply sorted_cons. \n",
      " * admit. \n",
      " * admit. }\n",
      "\n"
     ]
    },
    {
     "data": {
      "text/plain": [
       "{ intros a l H. induction H as [| x | x y t Hxy Hsorted IHsorted]. \n",
       " - simpl. constructor. \n",
       " - simpl. destruct (a <=? x) eqn: Hle. \n",
       " + constructor. admit. { apply sorted_1. } \n",
       " + constructor; try lia. admit. { apply sorted_1. } \n",
       " - simpl. destruct (a <=? x) eqn: Hle. \n",
       " + constructor; try lia. admit. { apply sorted_cons. \n",
       " - apply Hxy. \n",
       " - apply Hsorted. } \n",
       " + { destruct (a <=? y) eqn:Hleay. \n",
       " - apply sorted_cons. \n",
       " + admit. \n",
       " + admit. \n",
       " - \n",
       " + apply sorted_cons. \n",
       " * admit. \n",
       " * admit. } }"
      ]
     },
     "execution_count": 4,
     "metadata": {},
     "output_type": "execute_result"
    }
   ],
   "source": [
    "agent.next(agent.subproof_generator)"
   ]
  },
  {
   "cell_type": "code",
   "execution_count": 5,
   "metadata": {},
   "outputs": [
    {
     "name": "stdout",
     "output_type": "stream",
     "text": [
      "Trying:\n",
      " apply Nat.leb_complete. assumption.\n",
      "Qed.\n",
      "\n",
      "Got:\n",
      " admit.\n",
      "\n",
      "Trying:\n",
      " apply Nat.leb_complete_conv. assumption.\n",
      "Qed.\n",
      "\n",
      "Got:\n",
      " admit.\n",
      "\n",
      "Trying:\n",
      " apply Nat.leb_complete. assumption.\n",
      "Qed.\n",
      "\n",
      "Got:\n",
      " admit.\n",
      "\n",
      "Trying:\n",
      " apply Nat.leb_complete_conv. assumption.\n",
      "Qed.\n",
      "\n",
      "Got:\n",
      " admit.\n",
      "\n",
      "Trying:\n",
      " apply sorted_cons.\n",
      "- apply Nat.leb_complete. assumption.\n",
      "- assumption.\n",
      "Qed.\n",
      "\n",
      "Got:\n",
      " { apply sorted_cons. \n",
      " - admit. \n",
      " - assumption. }\n",
      "\n",
      "Trying:\n",
      " exact Hxy.\n",
      "Qed.\n",
      "\n",
      "Got:\n",
      " { exact Hxy. }\n",
      "\n",
      "Trying:\n",
      " apply sorted_cons.\n",
      "- apply Hxy.\n",
      "- apply IHsorted.\n",
      "Qed.\n",
      "\n",
      "Got:\n",
      " admit.\n",
      "\n"
     ]
    },
    {
     "data": {
      "text/plain": [
       "{ intros a l H. induction H as [| x | x y t Hxy Hsorted IHsorted]. \n",
       " - simpl. constructor. \n",
       " - simpl. destruct (a <=? x) eqn: Hle. \n",
       " + constructor. admit. { apply sorted_1. } \n",
       " + constructor; try lia. admit. { apply sorted_1. } \n",
       " - simpl. destruct (a <=? x) eqn: Hle. \n",
       " + constructor; try lia. admit. { apply sorted_cons. \n",
       " - apply Hxy. \n",
       " - apply Hsorted. } \n",
       " + { destruct (a <=? y) eqn:Hleay. \n",
       " - apply sorted_cons. \n",
       " + admit. \n",
       " + { apply sorted_cons. \n",
       " - admit. \n",
       " - assumption. } \n",
       " - \n",
       " + apply sorted_cons. \n",
       " * { exact Hxy. } \n",
       " * admit. } }"
      ]
     },
     "execution_count": 5,
     "metadata": {},
     "output_type": "execute_result"
    }
   ],
   "source": [
    "agent.next(agent.subproof_generator)"
   ]
  },
  {
   "cell_type": "code",
   "execution_count": 6,
   "metadata": {},
   "outputs": [
    {
     "name": "stdout",
     "output_type": "stream",
     "text": [
      "Trying:\n",
      " apply Nat.leb_complete. assumption.\n",
      "Qed.\n",
      "\n",
      "Got:\n",
      " admit.\n",
      "\n",
      "Trying:\n",
      " apply Nat.leb_complete_conv. assumption.\n",
      "Qed.\n",
      "\n",
      "Got:\n",
      " admit.\n",
      "\n",
      "Trying:\n",
      " apply Nat.leb_complete. assumption.\n",
      "Qed.\n",
      "\n",
      "Got:\n",
      " admit.\n",
      "\n",
      "Trying:\n",
      " apply Nat.leb_complete_conv. assumption.\n",
      "Qed.\n",
      "\n",
      "Got:\n",
      " admit.\n",
      "\n",
      "Trying:\n",
      " apply Nat.leb_complete. assumption.\n",
      "Qed.\n",
      "\n",
      "Got:\n",
      " admit.\n",
      "\n",
      "Trying:\n",
      " apply sorted_cons.\n",
      "- apply Hxy.\n",
      "- apply IHsorted.\n",
      "Qed.\n",
      "\n",
      "Got:\n",
      " admit.\n",
      "\n"
     ]
    },
    {
     "ename": "PetanqueError",
     "evalue": "(0, 'No proof found')",
     "output_type": "error",
     "traceback": [
      "\u001b[0;31m---------------------------------------------------------------------------\u001b[0m",
      "\u001b[0;31mPetanqueError\u001b[0m                             Traceback (most recent call last)",
      "Cell \u001b[0;32mIn[6], line 1\u001b[0m\n\u001b[0;32m----> 1\u001b[0m \u001b[43magent\u001b[49m\u001b[38;5;241;43m.\u001b[39;49m\u001b[43mnext\u001b[49m\u001b[43m(\u001b[49m\u001b[43magent\u001b[49m\u001b[38;5;241;43m.\u001b[39;49m\u001b[43msubproof_generator\u001b[49m\u001b[43m)\u001b[49m\n",
      "File \u001b[0;32m~/Project/llm4coq/pytanque/pytanque/gpt_agent2.py:130\u001b[0m, in \u001b[0;36mGPTAgent.next\u001b[0;34m(self, proof_generator)\u001b[0m\n\u001b[1;32m    129\u001b[0m \u001b[38;5;28;01mdef\u001b[39;00m \u001b[38;5;21mnext\u001b[39m(\u001b[38;5;28mself\u001b[39m, proof_generator: Callable[[State], \u001b[38;5;28mstr\u001b[39m]) \u001b[38;5;241m-\u001b[39m\u001b[38;5;241m>\u001b[39m Schema:\n\u001b[0;32m--> 130\u001b[0m     schema \u001b[38;5;241m=\u001b[39m \u001b[43mfill_schema\u001b[49m\u001b[43m(\u001b[49m\u001b[38;5;28;43mself\u001b[39;49m\u001b[38;5;241;43m.\u001b[39;49m\u001b[43mpet\u001b[49m\u001b[43m,\u001b[49m\u001b[43m \u001b[49m\u001b[38;5;28;43mself\u001b[39;49m\u001b[38;5;241;43m.\u001b[39;49m\u001b[43mschema\u001b[49m\u001b[43m,\u001b[49m\u001b[43m \u001b[49m\u001b[43mproof_generator\u001b[49m\u001b[43m)\u001b[49m\n\u001b[1;32m    131\u001b[0m     \u001b[38;5;28mself\u001b[39m\u001b[38;5;241m.\u001b[39mschema \u001b[38;5;241m=\u001b[39m schema\n\u001b[1;32m    132\u001b[0m     \u001b[38;5;28;01mreturn\u001b[39;00m \u001b[38;5;28mself\u001b[39m\u001b[38;5;241m.\u001b[39mschema\n",
      "File \u001b[0;32m~/Project/llm4coq/pytanque/pytanque/schema.py:173\u001b[0m, in \u001b[0;36mfill_schema\u001b[0;34m(pet, schema, proof_generator)\u001b[0m\n\u001b[1;32m    170\u001b[0m new_schema\u001b[38;5;241m.\u001b[39mtactics \u001b[38;5;241m+\u001b[39m\u001b[38;5;241m=\u001b[39m schema\u001b[38;5;241m.\u001b[39mtactics[p_ai \u001b[38;5;241m+\u001b[39m \u001b[38;5;241m1\u001b[39m :]\n\u001b[1;32m    172\u001b[0m \u001b[38;5;28;01mif\u001b[39;00m new_schema\u001b[38;5;241m.\u001b[39mtactics \u001b[38;5;241m==\u001b[39m schema\u001b[38;5;241m.\u001b[39mtactics:\n\u001b[0;32m--> 173\u001b[0m     \u001b[38;5;28;01mraise\u001b[39;00m PetanqueError(\u001b[38;5;241m0\u001b[39m, \u001b[38;5;124m\"\u001b[39m\u001b[38;5;124mNo proof found\u001b[39m\u001b[38;5;124m\"\u001b[39m)\n\u001b[1;32m    174\u001b[0m schema \u001b[38;5;241m=\u001b[39m new_schema\n\u001b[1;32m    175\u001b[0m \u001b[38;5;28;01mreturn\u001b[39;00m schema\n",
      "\u001b[0;31mPetanqueError\u001b[0m: (0, 'No proof found')"
     ]
    }
   ],
   "source": [
    "agent.next(agent.subproof_generator)"
   ]
  },
  {
   "cell_type": "code",
   "execution_count": null,
   "metadata": {},
   "outputs": [],
   "source": [
    "# agent.recursive_search(context, file_name=\"verified_sort.v\", thm_name=\"insert_sorted\")"
   ]
  },
  {
   "cell_type": "code",
   "execution_count": null,
   "metadata": {},
   "outputs": [],
   "source": [
    "# agent.schema_best_first(context, file_name=\"verified_sort.v\", thm_name=\"insert_sorted\")"
   ]
  },
  {
   "cell_type": "code",
   "execution_count": 2,
   "metadata": {},
   "outputs": [
    {
     "name": "stdout",
     "output_type": "stream",
     "text": [
      "Initial schema\n",
      "{ intros n m p. admit. }\n",
      "\n",
      "Trying:\n",
      " rewrite Nat.add_assoc.\n",
      "rewrite (Nat.add_comm n m).\n",
      "rewrite <- Nat.add_assoc.\n",
      "reflexivity.\n",
      "\n",
      "Got:\n",
      " { rewrite Nat.add_assoc. rewrite (Nat.add_comm n m). admit. }\n",
      "\n",
      "Trying:\n",
      " rewrite Nat.add_assoc.\n",
      "reflexivity.\n",
      "\n",
      "Got:\n",
      " { rewrite Nat.add_assoc. reflexivity. }\n",
      "\n"
     ]
    },
    {
     "data": {
      "text/plain": [
       "{ intros n m p. { rewrite Nat.add_assoc. rewrite (Nat.add_comm n m). { rewrite Nat.add_assoc. reflexivity. } } }"
      ]
     },
     "execution_count": 2,
     "metadata": {},
     "output_type": "execute_result"
    }
   ],
   "source": [
    "agent = gpt.GPTAgent(pet)\n",
    "\n",
    "context = \"\"\"\n",
    "Require Import Lia.\n",
    "\"\"\"\n",
    "\n",
    "agent.recursive_search(context, file_name=\"soft_found.v\", thm_name=\"add_shuffle3\")"
   ]
  },
  {
   "cell_type": "code",
   "execution_count": 3,
   "metadata": {},
   "outputs": [
    {
     "name": "stdout",
     "output_type": "stream",
     "text": [
      "Initial schema\n",
      "{ intros m n. induction m as [| m' IHm']. \n",
      " - simpl. rewrite Nat.mul_0_r. reflexivity. \n",
      " - simpl. rewrite IHm'. rewrite Nat.mul_succ_r. admit. }\n",
      "\n",
      "Trying:\n",
      " rewrite Nat.add_comm.\n",
      "reflexivity.\n",
      "\n",
      "Got:\n",
      " { rewrite Nat.add_comm. reflexivity. }\n",
      "\n"
     ]
    },
    {
     "data": {
      "text/plain": [
       "{ intros m n. induction m as [| m' IHm']. \n",
       " - simpl. rewrite Nat.mul_0_r. reflexivity. \n",
       " - simpl. rewrite IHm'. rewrite Nat.mul_succ_r. { rewrite Nat.add_comm. reflexivity. } }"
      ]
     },
     "execution_count": 3,
     "metadata": {},
     "output_type": "execute_result"
    }
   ],
   "source": [
    "agent = gpt.GPTAgent(pet)\n",
    "agent.recursive_search(context, file_name=\"soft_found.v\", thm_name=\"mul_comm\")"
   ]
  },
  {
   "cell_type": "code",
   "execution_count": 4,
   "metadata": {},
   "outputs": [
    {
     "name": "stdout",
     "output_type": "stream",
     "text": [
      "Initial schema\n",
      "{ intros n. induction n as [| n' IHn']. \n",
      " - simpl. reflexivity. \n",
      " - simpl. admit. }\n",
      "\n",
      "Trying:\n",
      " rewrite <- Nat.add_0_r. reflexivity.\n",
      "\n",
      "Got:\n",
      " admit.\n",
      "\n",
      "Trying:\n",
      " rewrite Nat.add_0_r. reflexivity.\n",
      "\n",
      "Got:\n",
      " { rewrite Nat.add_0_r. reflexivity. }\n",
      "\n"
     ]
    },
    {
     "data": {
      "text/plain": [
       "{ intros n. induction n as [| n' IHn']. \n",
       " - simpl. reflexivity. \n",
       " - simpl. { rewrite Nat.add_0_r. reflexivity. } }"
      ]
     },
     "execution_count": 4,
     "metadata": {},
     "output_type": "execute_result"
    }
   ],
   "source": [
    "agent = gpt.GPTAgent(pet)\n",
    "agent.recursive_search(context, file_name=\"soft_found.v\", thm_name=\"mult_1_l\")"
   ]
  },
  {
   "cell_type": "code",
   "execution_count": 7,
   "metadata": {},
   "outputs": [
    {
     "name": "stdout",
     "output_type": "stream",
     "text": [
      "Initial schema\n",
      "{ intros n m p. induction p as [| k IHk]. \n",
      " - simpl. rewrite Nat.mul_0_r. rewrite Nat.mul_0_r. rewrite Nat.mul_0_r. reflexivity. \n",
      " - simpl. admit. }\n",
      "\n",
      "Trying:\n",
      " simpl.\n",
      "rewrite IHk.\n",
      "rewrite <- Nat.add_assoc.\n",
      "rewrite (Nat.add_comm (m * k) m).\n",
      "rewrite Nat.add_assoc.\n",
      "reflexivity.\n",
      "\n",
      "Got:\n",
      " { simpl. admit. }\n",
      "\n",
      "Trying:\n",
      " simpl.\n",
      "rewrite IHk.\n",
      "rewrite <- Nat.add_assoc.\n",
      "rewrite (Nat.add_comm (m * k) m).\n",
      "rewrite Nat.add_assoc.\n",
      "reflexivity.\n",
      "\n",
      "Got:\n",
      " { simpl. admit. }\n",
      "\n",
      "Trying:\n",
      " simpl.\n",
      "rewrite IHk.\n",
      "rewrite Nat.mul_succ_r.\n",
      "rewrite Nat.mul_succ_r.\n",
      "lia.\n",
      "\n",
      "Got:\n",
      " { simpl. admit. }\n",
      "\n",
      "Trying:\n",
      " simpl. (* Simplify the expression *)\n",
      "rewrite IHk. (* Apply the inductive hypothesis *)\n",
      "rewrite Nat.mul_succ_r. (* Expand n * S k *)\n",
      "rewrite Nat.mul_succ_r. (* Expand m * S k *)\n",
      "lia. (* Apply linear integer arithmetic to conclude the equivalence *)\n",
      "\n",
      "Got:\n",
      " { simpl. admit. }\n",
      "\n",
      "Trying:\n",
      " simpl. (* Expanding the multiplication by successor *)\n",
      "rewrite IHk. (* Using the inductive hypothesis *)\n",
      "rewrite <- Nat.add_assoc. (* Reassociating addition to group terms *)\n",
      "rewrite (Nat.add_comm (m * k) m). (* Commuting terms for clarity *)\n",
      "rewrite Nat.add_assoc. (* Completing the grouping *)\n",
      "reflexivity. (* Concluding the proof with equality *)\n",
      "\n",
      "Got:\n",
      " { simpl. admit. }\n",
      "\n"
     ]
    },
    {
     "ename": "PetanqueError",
     "evalue": "(0, 'No proof found')",
     "output_type": "error",
     "traceback": [
      "\u001b[0;31m---------------------------------------------------------------------------\u001b[0m",
      "\u001b[0;31mPetanqueError\u001b[0m                             Traceback (most recent call last)",
      "Cell \u001b[0;32mIn[7], line 2\u001b[0m\n\u001b[1;32m      1\u001b[0m agent \u001b[38;5;241m=\u001b[39m gpt\u001b[38;5;241m.\u001b[39mGPTAgent(pet)\n\u001b[0;32m----> 2\u001b[0m \u001b[43magent\u001b[49m\u001b[38;5;241;43m.\u001b[39;49m\u001b[43mrecursive_search\u001b[49m\u001b[43m(\u001b[49m\u001b[43mcontext\u001b[49m\u001b[43m,\u001b[49m\u001b[43m \u001b[49m\u001b[43mfile_name\u001b[49m\u001b[38;5;241;43m=\u001b[39;49m\u001b[38;5;124;43m\"\u001b[39;49m\u001b[38;5;124;43msoft_found.v\u001b[39;49m\u001b[38;5;124;43m\"\u001b[39;49m\u001b[43m,\u001b[49m\u001b[43m \u001b[49m\u001b[43mthm_name\u001b[49m\u001b[38;5;241;43m=\u001b[39;49m\u001b[38;5;124;43m\"\u001b[39;49m\u001b[38;5;124;43mmult_plus_distr_r\u001b[39;49m\u001b[38;5;124;43m\"\u001b[39;49m\u001b[43m)\u001b[49m\n",
      "File \u001b[0;32m~/Project/llm4coq/pytanque/pytanque/gpt_agent2.py:150\u001b[0m, in \u001b[0;36mGPTAgent.recursive_search\u001b[0;34m(self, context, file_name, thm_name, max_depth)\u001b[0m\n\u001b[1;32m    147\u001b[0m     \u001b[38;5;28mself\u001b[39m\u001b[38;5;241m.\u001b[39mnext(\u001b[38;5;28mself\u001b[39m\u001b[38;5;241m.\u001b[39msubproof_generator)\n\u001b[1;32m    148\u001b[0m     \u001b[38;5;28;01mreturn\u001b[39;00m search(depth \u001b[38;5;241m-\u001b[39m \u001b[38;5;241m1\u001b[39m)\n\u001b[0;32m--> 150\u001b[0m \u001b[38;5;28;01mreturn\u001b[39;00m \u001b[43msearch\u001b[49m\u001b[43m(\u001b[49m\u001b[43mmax_depth\u001b[49m\u001b[43m)\u001b[49m\n",
      "File \u001b[0;32m~/Project/llm4coq/pytanque/pytanque/gpt_agent2.py:148\u001b[0m, in \u001b[0;36mGPTAgent.recursive_search.<locals>.search\u001b[0;34m(depth)\u001b[0m\n\u001b[1;32m    146\u001b[0m     \u001b[38;5;28;01mreturn\u001b[39;00m \u001b[38;5;28mself\u001b[39m\u001b[38;5;241m.\u001b[39mschema\n\u001b[1;32m    147\u001b[0m \u001b[38;5;28mself\u001b[39m\u001b[38;5;241m.\u001b[39mnext(\u001b[38;5;28mself\u001b[39m\u001b[38;5;241m.\u001b[39msubproof_generator)\n\u001b[0;32m--> 148\u001b[0m \u001b[38;5;28;01mreturn\u001b[39;00m \u001b[43msearch\u001b[49m\u001b[43m(\u001b[49m\u001b[43mdepth\u001b[49m\u001b[43m \u001b[49m\u001b[38;5;241;43m-\u001b[39;49m\u001b[43m \u001b[49m\u001b[38;5;241;43m1\u001b[39;49m\u001b[43m)\u001b[49m\n",
      "File \u001b[0;32m~/Project/llm4coq/pytanque/pytanque/gpt_agent2.py:148\u001b[0m, in \u001b[0;36mGPTAgent.recursive_search.<locals>.search\u001b[0;34m(depth)\u001b[0m\n\u001b[1;32m    146\u001b[0m     \u001b[38;5;28;01mreturn\u001b[39;00m \u001b[38;5;28mself\u001b[39m\u001b[38;5;241m.\u001b[39mschema\n\u001b[1;32m    147\u001b[0m \u001b[38;5;28mself\u001b[39m\u001b[38;5;241m.\u001b[39mnext(\u001b[38;5;28mself\u001b[39m\u001b[38;5;241m.\u001b[39msubproof_generator)\n\u001b[0;32m--> 148\u001b[0m \u001b[38;5;28;01mreturn\u001b[39;00m \u001b[43msearch\u001b[49m\u001b[43m(\u001b[49m\u001b[43mdepth\u001b[49m\u001b[43m \u001b[49m\u001b[38;5;241;43m-\u001b[39;49m\u001b[43m \u001b[49m\u001b[38;5;241;43m1\u001b[39;49m\u001b[43m)\u001b[49m\n",
      "    \u001b[0;31m[... skipping similar frames: GPTAgent.recursive_search.<locals>.search at line 148 (2 times)]\u001b[0m\n",
      "File \u001b[0;32m~/Project/llm4coq/pytanque/pytanque/gpt_agent2.py:148\u001b[0m, in \u001b[0;36mGPTAgent.recursive_search.<locals>.search\u001b[0;34m(depth)\u001b[0m\n\u001b[1;32m    146\u001b[0m     \u001b[38;5;28;01mreturn\u001b[39;00m \u001b[38;5;28mself\u001b[39m\u001b[38;5;241m.\u001b[39mschema\n\u001b[1;32m    147\u001b[0m \u001b[38;5;28mself\u001b[39m\u001b[38;5;241m.\u001b[39mnext(\u001b[38;5;28mself\u001b[39m\u001b[38;5;241m.\u001b[39msubproof_generator)\n\u001b[0;32m--> 148\u001b[0m \u001b[38;5;28;01mreturn\u001b[39;00m \u001b[43msearch\u001b[49m\u001b[43m(\u001b[49m\u001b[43mdepth\u001b[49m\u001b[43m \u001b[49m\u001b[38;5;241;43m-\u001b[39;49m\u001b[43m \u001b[49m\u001b[38;5;241;43m1\u001b[39;49m\u001b[43m)\u001b[49m\n",
      "File \u001b[0;32m~/Project/llm4coq/pytanque/pytanque/gpt_agent2.py:144\u001b[0m, in \u001b[0;36mGPTAgent.recursive_search.<locals>.search\u001b[0;34m(depth)\u001b[0m\n\u001b[1;32m    142\u001b[0m \u001b[38;5;28;01mdef\u001b[39;00m \u001b[38;5;21msearch\u001b[39m(depth: \u001b[38;5;28mint\u001b[39m) \u001b[38;5;241m-\u001b[39m\u001b[38;5;241m>\u001b[39m Schema:\n\u001b[1;32m    143\u001b[0m     \u001b[38;5;28;01mif\u001b[39;00m depth \u001b[38;5;241m==\u001b[39m \u001b[38;5;241m0\u001b[39m:\n\u001b[0;32m--> 144\u001b[0m         \u001b[38;5;28;01mraise\u001b[39;00m PetanqueError(\u001b[38;5;241m0\u001b[39m, \u001b[38;5;124m\"\u001b[39m\u001b[38;5;124mNo proof found\u001b[39m\u001b[38;5;124m\"\u001b[39m)\n\u001b[1;32m    145\u001b[0m     \u001b[38;5;28;01mif\u001b[39;00m \u001b[38;5;129;01mnot\u001b[39;00m \u001b[38;5;28mself\u001b[39m\u001b[38;5;241m.\u001b[39mschema\u001b[38;5;241m.\u001b[39madmit_states:\n\u001b[1;32m    146\u001b[0m         \u001b[38;5;28;01mreturn\u001b[39;00m \u001b[38;5;28mself\u001b[39m\u001b[38;5;241m.\u001b[39mschema\n",
      "\u001b[0;31mPetanqueError\u001b[0m: (0, 'No proof found')"
     ]
    }
   ],
   "source": [
    "agent = gpt.GPTAgent(pet)\n",
    "agent.recursive_search(context, file_name=\"soft_found.v\", thm_name=\"mult_plus_distr_r\")"
   ]
  },
  {
   "cell_type": "code",
   "execution_count": 6,
   "metadata": {},
   "outputs": [
    {
     "name": "stdout",
     "output_type": "stream",
     "text": [
      "Initial schema\n",
      "{ intros n m p. rewrite Nat.mul_assoc. reflexivity. }\n",
      "\n"
     ]
    },
    {
     "data": {
      "text/plain": [
       "{ intros n m p. rewrite Nat.mul_assoc. reflexivity. }"
      ]
     },
     "execution_count": 6,
     "metadata": {},
     "output_type": "execute_result"
    }
   ],
   "source": [
    "agent = gpt.GPTAgent(pet)\n",
    "agent.recursive_search(context, file_name=\"soft_found.v\", thm_name=\"mult_assoc\")"
   ]
  },
  {
   "cell_type": "code",
   "execution_count": null,
   "metadata": {},
   "outputs": [],
   "source": []
  }
 ],
 "metadata": {
  "kernelspec": {
   "display_name": "petanque",
   "language": "python",
   "name": "python3"
  },
  "language_info": {
   "codemirror_mode": {
    "name": "ipython",
    "version": 3
   },
   "file_extension": ".py",
   "mimetype": "text/x-python",
   "name": "python",
   "nbconvert_exporter": "python",
   "pygments_lexer": "ipython3",
   "version": "3.12.2"
  }
 },
 "nbformat": 4,
 "nbformat_minor": 2
}
