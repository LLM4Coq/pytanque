{
 "cells": [
  {
   "cell_type": "code",
   "execution_count": 14,
   "metadata": {},
   "outputs": [],
   "source": [
    "import pytanque as pt\n",
    "from pytanque import Pytanque\n",
    "import pytanque.schema as sch\n",
    "import pytanque.gpt_agent as gpt\n",
    "\n",
    "pet = Pytanque(\"127.0.0.1\", 8765)\n",
    "pet.connect()"
   ]
  },
  {
   "cell_type": "code",
   "execution_count": 15,
   "metadata": {},
   "outputs": [],
   "source": [
    "# Excerpt from Software Foundation Vol. 3.\n",
    "# https://softwarefoundations.cis.upenn.edu/vfa-current/Sort.html\n",
    "\n",
    "context = \"\"\"\n",
    "From Coq Require Import Strings.String.  (* for manual grading *)\n",
    "From Coq Require Export Bool.Bool.\n",
    "From Coq Require Export Arith.Arith.\n",
    "From Coq Require Export Arith.PeanoNat.\n",
    "From Coq Require Export Arith.EqNat.\n",
    "From Coq Require Export Lia.\n",
    "From Coq Require Export Lists.List.\n",
    "Export ListNotations.\n",
    "From Coq Require Export Permutation.\n",
    "\n",
    "Fixpoint insert (i : nat) (l : list nat) :=\n",
    "  match l with\n",
    "  | [] => [i]\n",
    "  | h :: t => if i <=? h then i :: h :: t else h :: insert i t\n",
    "  end.\n",
    "\n",
    "Fixpoint sort (l : list nat) : list nat :=\n",
    "  match l with\n",
    "  | [] => []\n",
    "  | h :: t => insert h (sort t)\n",
    "  end.\n",
    "\n",
    "Inductive sorted : list nat -> Prop :=\n",
    "| sorted_nil :\n",
    "    sorted []\n",
    "| sorted_1 : forall x,\n",
    "    sorted [x]\n",
    "| sorted_cons : forall x y l,\n",
    "    x <= y -> sorted (y :: l) -> sorted (x :: y :: l).\n",
    "\"\"\"\n",
    "\n",
    "goal = \"\"\"\n",
    "----------------------------------------------------------------\n",
    "forall (a : nat) (l : list nat), sorted l -> sorted (insert a l)\n",
    "\"\"\""
   ]
  },
  {
   "cell_type": "code",
   "execution_count": 16,
   "metadata": {},
   "outputs": [
    {
     "data": {
      "text/plain": [
       "{ intros a l H. induction H. \n",
       " - simpl. constructor. \n",
       " - simpl. destruct (a <=? x) eqn:E. \n",
       " + constructor. apply Nat.leb_le in E. assumption. constructor. \n",
       " + constructor. admit. constructor. \n",
       " - simpl. destruct (a <=? x) eqn:E1. \n",
       " + constructor; try assumption. apply Nat.leb_le in E1. lia. admit. \n",
       " + destruct (a <=? y) eqn:E2. \n",
       " * constructor; try assumption. apply Nat.leb_le in E2. admit. admit. \n",
       " * constructor; try assumption. admit. }"
      ]
     },
     "execution_count": 16,
     "metadata": {},
     "output_type": "execute_result"
    }
   ],
   "source": [
    "agent = gpt.GPTAgent(pet)\n",
    "init_state = pet.start(file=\"verified_sort.v\", thm=\"insert_sorted\")\n",
    "\n",
    "agent.start(context, init_state)"
   ]
  },
  {
   "cell_type": "code",
   "execution_count": 17,
   "metadata": {},
   "outputs": [
    {
     "name": "stdout",
     "output_type": "stream",
     "text": [
      "Trying:\n",
      " ```\n",
      "apply Nat.leb_gt in E.\n",
      "lia.\n",
      "```\n",
      "\n",
      "Got:\n",
      " { apply Nat.leb_gt in E. lia. }\n",
      "\n",
      "Trying:\n",
      " ```\n",
      "constructor.\n",
      "- apply Nat.leb_le in E1. assumption.\n",
      "- assumption.\n",
      "```\n",
      "\n",
      "Got:\n",
      " { constructor. \n",
      " - apply Nat.leb_le in E1. assumption. \n",
      " - assumption. }\n",
      "\n",
      "Trying:\n",
      " ```\n",
      "apply Nat.leb_gt in E1.\n",
      "lia.\n",
      "```\n",
      "\n",
      "Got:\n",
      " { apply Nat.leb_gt in E1. lia. }\n",
      "\n",
      "Trying:\n",
      " ```\n",
      "constructor.\n",
      "- apply Nat.leb_le in E2. assumption.\n",
      "- assumption.\n",
      "```\n",
      "\n",
      "Got:\n",
      " { constructor. \n",
      " - apply Nat.leb_le in E2. assumption. \n",
      " - assumption. }\n",
      "\n",
      "Trying:\n",
      " ```\n",
      "constructor.\n",
      "- assumption.\n",
      "- assumption.\n",
      "```\n",
      "\n",
      "Got:\n",
      " admit.\n",
      "\n"
     ]
    },
    {
     "data": {
      "text/plain": [
       "{ intros a l H. induction H. \n",
       " - simpl. constructor. \n",
       " - simpl. destruct (a <=? x) eqn:E. \n",
       " + constructor. apply Nat.leb_le in E. assumption. constructor. \n",
       " + constructor. { apply Nat.leb_gt in E. lia. } constructor. \n",
       " - simpl. destruct (a <=? x) eqn:E1. \n",
       " + constructor; try assumption. apply Nat.leb_le in E1. lia. { constructor. \n",
       " - apply Nat.leb_le in E1. assumption. \n",
       " - assumption. } \n",
       " + destruct (a <=? y) eqn:E2. \n",
       " * constructor; try assumption. apply Nat.leb_le in E2. { apply Nat.leb_gt in E1. lia. } { constructor. \n",
       " - apply Nat.leb_le in E2. assumption. \n",
       " - assumption. } \n",
       " * constructor; try assumption. admit. }"
      ]
     },
     "execution_count": 17,
     "metadata": {},
     "output_type": "execute_result"
    }
   ],
   "source": [
    "agent.next(agent.schema_generator)"
   ]
  },
  {
   "cell_type": "code",
   "execution_count": 18,
   "metadata": {},
   "outputs": [
    {
     "name": "stdout",
     "output_type": "stream",
     "text": [
      "Trying:\n",
      " ```\n",
      "apply sorted_cons.\n",
      "- assumption.\n",
      "- apply IHsorted.\n",
      "```\n",
      "\n",
      "Got:\n",
      " admit.\n",
      "\n"
     ]
    },
    {
     "ename": "PetanqueError",
     "evalue": "(0, 'No proof found')",
     "output_type": "error",
     "traceback": [
      "\u001b[0;31m---------------------------------------------------------------------------\u001b[0m",
      "\u001b[0;31mPetanqueError\u001b[0m                             Traceback (most recent call last)",
      "Cell \u001b[0;32mIn[18], line 1\u001b[0m\n\u001b[0;32m----> 1\u001b[0m \u001b[43magent\u001b[49m\u001b[38;5;241;43m.\u001b[39;49m\u001b[43mnext\u001b[49m\u001b[43m(\u001b[49m\u001b[43magent\u001b[49m\u001b[38;5;241;43m.\u001b[39;49m\u001b[43mschema_generator\u001b[49m\u001b[43m)\u001b[49m\n",
      "File \u001b[0;32m~/Project/llm4coq/pytanque/pytanque/gpt_agent.py:177\u001b[0m, in \u001b[0;36mGPTAgent.next\u001b[0;34m(self, proof_generator)\u001b[0m\n\u001b[1;32m    174\u001b[0m schema\u001b[38;5;241m.\u001b[39mtactics \u001b[38;5;241m+\u001b[39m\u001b[38;5;241m=\u001b[39m \u001b[38;5;28mself\u001b[39m\u001b[38;5;241m.\u001b[39mschema\u001b[38;5;241m.\u001b[39mtactics[p_ai \u001b[38;5;241m+\u001b[39m \u001b[38;5;241m1\u001b[39m :]\n\u001b[1;32m    176\u001b[0m \u001b[38;5;28;01mif\u001b[39;00m schema\u001b[38;5;241m.\u001b[39mtactics \u001b[38;5;241m==\u001b[39m \u001b[38;5;28mself\u001b[39m\u001b[38;5;241m.\u001b[39mschema\u001b[38;5;241m.\u001b[39mtactics:\n\u001b[0;32m--> 177\u001b[0m     \u001b[38;5;28;01mraise\u001b[39;00m PetanqueError(\u001b[38;5;241m0\u001b[39m, \u001b[38;5;124m\"\u001b[39m\u001b[38;5;124mNo proof found\u001b[39m\u001b[38;5;124m\"\u001b[39m)\n\u001b[1;32m    178\u001b[0m \u001b[38;5;28mself\u001b[39m\u001b[38;5;241m.\u001b[39mschema \u001b[38;5;241m=\u001b[39m schema\n\u001b[1;32m    179\u001b[0m \u001b[38;5;28;01mreturn\u001b[39;00m \u001b[38;5;28mself\u001b[39m\u001b[38;5;241m.\u001b[39mschema\n",
      "\u001b[0;31mPetanqueError\u001b[0m: (0, 'No proof found')"
     ]
    }
   ],
   "source": [
    "agent.next(agent.schema_generator)"
   ]
  },
  {
   "cell_type": "code",
   "execution_count": null,
   "metadata": {},
   "outputs": [],
   "source": [
    "agent.next(agent.schema_generator)"
   ]
  },
  {
   "cell_type": "code",
   "execution_count": 19,
   "metadata": {},
   "outputs": [
    {
     "name": "stdout",
     "output_type": "stream",
     "text": [
      "Initial schema\n",
      "{ intros a l H. induction H. \n",
      " - simpl. constructor. \n",
      " - simpl. destruct (a <=? x) eqn:E. \n",
      " + constructor. apply Nat.leb_le in E. assumption. constructor. \n",
      " + constructor. admit. constructor. \n",
      " - simpl. destruct (a <=? x) eqn:E1. \n",
      " + constructor; try assumption. apply Nat.leb_le in E1. lia. admit. \n",
      " + destruct (a <=? y) eqn:E2. \n",
      " * constructor; try assumption. apply Nat.leb_le in E2. admit. admit. \n",
      " * constructor; try assumption. admit. }\n",
      "\n",
      "Trying:\n",
      " ```\n",
      "apply Nat.leb_gt in E.\n",
      "lia.\n",
      "```\n",
      "\n",
      "Got:\n",
      " { apply Nat.leb_gt in E. lia. }\n",
      "\n",
      "Trying:\n",
      " ```\n",
      "constructor.\n",
      "- apply Nat.leb_le in E1. assumption.\n",
      "- assumption.\n",
      "```\n",
      "\n",
      "Got:\n",
      " { constructor. \n",
      " - apply Nat.leb_le in E1. assumption. \n",
      " - assumption. }\n",
      "\n",
      "Trying:\n",
      " ```\n",
      "apply Nat.leb_gt in E1.\n",
      "lia.\n",
      "```\n",
      "\n",
      "Got:\n",
      " { apply Nat.leb_gt in E1. lia. }\n",
      "\n",
      "Trying:\n",
      " ```\n",
      "constructor.\n",
      "- apply Nat.leb_le in E2. assumption.\n",
      "- assumption.\n",
      "```\n",
      "\n",
      "Got:\n",
      " { constructor. \n",
      " - apply Nat.leb_le in E2. assumption. \n",
      " - assumption. }\n",
      "\n",
      "Trying:\n",
      " ```\n",
      "constructor.\n",
      "- assumption.\n",
      "- apply IHsorted.\n",
      "```\n",
      "\n",
      "Got:\n",
      " admit.\n",
      "\n",
      "Trying:\n",
      " ```\n",
      "constructor.\n",
      "- assumption.\n",
      "- apply IHsorted.\n",
      "```\n",
      "\n",
      "Got:\n",
      " admit.\n",
      "\n"
     ]
    },
    {
     "ename": "PetanqueError",
     "evalue": "(0, 'No proof found')",
     "output_type": "error",
     "traceback": [
      "\u001b[0;31m---------------------------------------------------------------------------\u001b[0m",
      "\u001b[0;31mPetanqueError\u001b[0m                             Traceback (most recent call last)",
      "Cell \u001b[0;32mIn[19], line 1\u001b[0m\n\u001b[0;32m----> 1\u001b[0m \u001b[43magent\u001b[49m\u001b[38;5;241;43m.\u001b[39;49m\u001b[43mrecursive_search\u001b[49m\u001b[43m(\u001b[49m\u001b[43mcontext\u001b[49m\u001b[43m,\u001b[49m\u001b[43m \u001b[49m\u001b[43mfile_name\u001b[49m\u001b[38;5;241;43m=\u001b[39;49m\u001b[38;5;124;43m\"\u001b[39;49m\u001b[38;5;124;43mverified_sort.v\u001b[39;49m\u001b[38;5;124;43m\"\u001b[39;49m\u001b[43m,\u001b[49m\u001b[43m \u001b[49m\u001b[43mthm_name\u001b[49m\u001b[38;5;241;43m=\u001b[39;49m\u001b[38;5;124;43m\"\u001b[39;49m\u001b[38;5;124;43minsert_sorted\u001b[39;49m\u001b[38;5;124;43m\"\u001b[39;49m\u001b[43m)\u001b[49m\n",
      "File \u001b[0;32m~/Project/llm4coq/pytanque/pytanque/gpt_agent.py:197\u001b[0m, in \u001b[0;36mGPTAgent.recursive_search\u001b[0;34m(self, context, file_name, thm_name, max_depth)\u001b[0m\n\u001b[1;32m    194\u001b[0m     \u001b[38;5;28mself\u001b[39m\u001b[38;5;241m.\u001b[39mnext(\u001b[38;5;28mself\u001b[39m\u001b[38;5;241m.\u001b[39mschema_generator)\n\u001b[1;32m    195\u001b[0m     \u001b[38;5;28;01mreturn\u001b[39;00m search(depth \u001b[38;5;241m-\u001b[39m \u001b[38;5;241m1\u001b[39m)\n\u001b[0;32m--> 197\u001b[0m \u001b[38;5;28;01mreturn\u001b[39;00m \u001b[43msearch\u001b[49m\u001b[43m(\u001b[49m\u001b[43mmax_depth\u001b[49m\u001b[43m)\u001b[49m\n",
      "File \u001b[0;32m~/Project/llm4coq/pytanque/pytanque/gpt_agent.py:195\u001b[0m, in \u001b[0;36mGPTAgent.recursive_search.<locals>.search\u001b[0;34m(depth)\u001b[0m\n\u001b[1;32m    193\u001b[0m     \u001b[38;5;28;01mreturn\u001b[39;00m \u001b[38;5;28mself\u001b[39m\u001b[38;5;241m.\u001b[39mschema\n\u001b[1;32m    194\u001b[0m \u001b[38;5;28mself\u001b[39m\u001b[38;5;241m.\u001b[39mnext(\u001b[38;5;28mself\u001b[39m\u001b[38;5;241m.\u001b[39mschema_generator)\n\u001b[0;32m--> 195\u001b[0m \u001b[38;5;28;01mreturn\u001b[39;00m \u001b[43msearch\u001b[49m\u001b[43m(\u001b[49m\u001b[43mdepth\u001b[49m\u001b[43m \u001b[49m\u001b[38;5;241;43m-\u001b[39;49m\u001b[43m \u001b[49m\u001b[38;5;241;43m1\u001b[39;49m\u001b[43m)\u001b[49m\n",
      "File \u001b[0;32m~/Project/llm4coq/pytanque/pytanque/gpt_agent.py:194\u001b[0m, in \u001b[0;36mGPTAgent.recursive_search.<locals>.search\u001b[0;34m(depth)\u001b[0m\n\u001b[1;32m    192\u001b[0m \u001b[38;5;28;01mif\u001b[39;00m \u001b[38;5;129;01mnot\u001b[39;00m \u001b[38;5;28mself\u001b[39m\u001b[38;5;241m.\u001b[39mschema\u001b[38;5;241m.\u001b[39madmit_states:\n\u001b[1;32m    193\u001b[0m     \u001b[38;5;28;01mreturn\u001b[39;00m \u001b[38;5;28mself\u001b[39m\u001b[38;5;241m.\u001b[39mschema\n\u001b[0;32m--> 194\u001b[0m \u001b[38;5;28;43mself\u001b[39;49m\u001b[38;5;241;43m.\u001b[39;49m\u001b[43mnext\u001b[49m\u001b[43m(\u001b[49m\u001b[38;5;28;43mself\u001b[39;49m\u001b[38;5;241;43m.\u001b[39;49m\u001b[43mschema_generator\u001b[49m\u001b[43m)\u001b[49m\n\u001b[1;32m    195\u001b[0m \u001b[38;5;28;01mreturn\u001b[39;00m search(depth \u001b[38;5;241m-\u001b[39m \u001b[38;5;241m1\u001b[39m)\n",
      "File \u001b[0;32m~/Project/llm4coq/pytanque/pytanque/gpt_agent.py:177\u001b[0m, in \u001b[0;36mGPTAgent.next\u001b[0;34m(self, proof_generator)\u001b[0m\n\u001b[1;32m    174\u001b[0m schema\u001b[38;5;241m.\u001b[39mtactics \u001b[38;5;241m+\u001b[39m\u001b[38;5;241m=\u001b[39m \u001b[38;5;28mself\u001b[39m\u001b[38;5;241m.\u001b[39mschema\u001b[38;5;241m.\u001b[39mtactics[p_ai \u001b[38;5;241m+\u001b[39m \u001b[38;5;241m1\u001b[39m :]\n\u001b[1;32m    176\u001b[0m \u001b[38;5;28;01mif\u001b[39;00m schema\u001b[38;5;241m.\u001b[39mtactics \u001b[38;5;241m==\u001b[39m \u001b[38;5;28mself\u001b[39m\u001b[38;5;241m.\u001b[39mschema\u001b[38;5;241m.\u001b[39mtactics:\n\u001b[0;32m--> 177\u001b[0m     \u001b[38;5;28;01mraise\u001b[39;00m PetanqueError(\u001b[38;5;241m0\u001b[39m, \u001b[38;5;124m\"\u001b[39m\u001b[38;5;124mNo proof found\u001b[39m\u001b[38;5;124m\"\u001b[39m)\n\u001b[1;32m    178\u001b[0m \u001b[38;5;28mself\u001b[39m\u001b[38;5;241m.\u001b[39mschema \u001b[38;5;241m=\u001b[39m schema\n\u001b[1;32m    179\u001b[0m \u001b[38;5;28;01mreturn\u001b[39;00m \u001b[38;5;28mself\u001b[39m\u001b[38;5;241m.\u001b[39mschema\n",
      "\u001b[0;31mPetanqueError\u001b[0m: (0, 'No proof found')"
     ]
    }
   ],
   "source": [
    "agent.recursive_search(context, file_name=\"verified_sort.v\", thm_name=\"insert_sorted\")"
   ]
  },
  {
   "cell_type": "code",
   "execution_count": null,
   "metadata": {},
   "outputs": [],
   "source": [
    "agent.schema_best_first(context, file_name=\"verified_sort.v\", thm_name=\"insert_sorted\")"
   ]
  },
  {
   "cell_type": "code",
   "execution_count": 20,
   "metadata": {},
   "outputs": [
    {
     "name": "stdout",
     "output_type": "stream",
     "text": [
      "Initial schema\n",
      "{ intros. admit. }\n",
      "\n",
      "Trying:\n",
      " ```\n",
      "lia.\n",
      "```\n",
      "\n",
      "Got:\n",
      " admit.\n",
      "\n"
     ]
    },
    {
     "ename": "PetanqueError",
     "evalue": "(0, 'No proof found')",
     "output_type": "error",
     "traceback": [
      "\u001b[0;31m---------------------------------------------------------------------------\u001b[0m",
      "\u001b[0;31mPetanqueError\u001b[0m                             Traceback (most recent call last)",
      "Cell \u001b[0;32mIn[20], line 7\u001b[0m\n\u001b[1;32m      1\u001b[0m agent \u001b[38;5;241m=\u001b[39m gpt\u001b[38;5;241m.\u001b[39mGPTAgent(pet)\n\u001b[1;32m      3\u001b[0m context \u001b[38;5;241m=\u001b[39m \u001b[38;5;124m\"\"\"\u001b[39m\n\u001b[1;32m      4\u001b[0m \u001b[38;5;124mRequire Import Lia.\u001b[39m\n\u001b[1;32m      5\u001b[0m \u001b[38;5;124m\"\"\"\u001b[39m\n\u001b[0;32m----> 7\u001b[0m \u001b[43magent\u001b[49m\u001b[38;5;241;43m.\u001b[39;49m\u001b[43mrecursive_search\u001b[49m\u001b[43m(\u001b[49m\u001b[43mcontext\u001b[49m\u001b[43m,\u001b[49m\u001b[43m \u001b[49m\u001b[43mfile_name\u001b[49m\u001b[38;5;241;43m=\u001b[39;49m\u001b[38;5;124;43m\"\u001b[39;49m\u001b[38;5;124;43msoft_found.v\u001b[39;49m\u001b[38;5;124;43m\"\u001b[39;49m\u001b[43m,\u001b[49m\u001b[43m \u001b[49m\u001b[43mthm_name\u001b[49m\u001b[38;5;241;43m=\u001b[39;49m\u001b[38;5;124;43m\"\u001b[39;49m\u001b[38;5;124;43madd_shuffle3\u001b[39;49m\u001b[38;5;124;43m\"\u001b[39;49m\u001b[43m)\u001b[49m\n",
      "File \u001b[0;32m~/Project/llm4coq/pytanque/pytanque/gpt_agent.py:197\u001b[0m, in \u001b[0;36mGPTAgent.recursive_search\u001b[0;34m(self, context, file_name, thm_name, max_depth)\u001b[0m\n\u001b[1;32m    194\u001b[0m     \u001b[38;5;28mself\u001b[39m\u001b[38;5;241m.\u001b[39mnext(\u001b[38;5;28mself\u001b[39m\u001b[38;5;241m.\u001b[39mschema_generator)\n\u001b[1;32m    195\u001b[0m     \u001b[38;5;28;01mreturn\u001b[39;00m search(depth \u001b[38;5;241m-\u001b[39m \u001b[38;5;241m1\u001b[39m)\n\u001b[0;32m--> 197\u001b[0m \u001b[38;5;28;01mreturn\u001b[39;00m \u001b[43msearch\u001b[49m\u001b[43m(\u001b[49m\u001b[43mmax_depth\u001b[49m\u001b[43m)\u001b[49m\n",
      "File \u001b[0;32m~/Project/llm4coq/pytanque/pytanque/gpt_agent.py:194\u001b[0m, in \u001b[0;36mGPTAgent.recursive_search.<locals>.search\u001b[0;34m(depth)\u001b[0m\n\u001b[1;32m    192\u001b[0m \u001b[38;5;28;01mif\u001b[39;00m \u001b[38;5;129;01mnot\u001b[39;00m \u001b[38;5;28mself\u001b[39m\u001b[38;5;241m.\u001b[39mschema\u001b[38;5;241m.\u001b[39madmit_states:\n\u001b[1;32m    193\u001b[0m     \u001b[38;5;28;01mreturn\u001b[39;00m \u001b[38;5;28mself\u001b[39m\u001b[38;5;241m.\u001b[39mschema\n\u001b[0;32m--> 194\u001b[0m \u001b[38;5;28;43mself\u001b[39;49m\u001b[38;5;241;43m.\u001b[39;49m\u001b[43mnext\u001b[49m\u001b[43m(\u001b[49m\u001b[38;5;28;43mself\u001b[39;49m\u001b[38;5;241;43m.\u001b[39;49m\u001b[43mschema_generator\u001b[49m\u001b[43m)\u001b[49m\n\u001b[1;32m    195\u001b[0m \u001b[38;5;28;01mreturn\u001b[39;00m search(depth \u001b[38;5;241m-\u001b[39m \u001b[38;5;241m1\u001b[39m)\n",
      "File \u001b[0;32m~/Project/llm4coq/pytanque/pytanque/gpt_agent.py:177\u001b[0m, in \u001b[0;36mGPTAgent.next\u001b[0;34m(self, proof_generator)\u001b[0m\n\u001b[1;32m    174\u001b[0m schema\u001b[38;5;241m.\u001b[39mtactics \u001b[38;5;241m+\u001b[39m\u001b[38;5;241m=\u001b[39m \u001b[38;5;28mself\u001b[39m\u001b[38;5;241m.\u001b[39mschema\u001b[38;5;241m.\u001b[39mtactics[p_ai \u001b[38;5;241m+\u001b[39m \u001b[38;5;241m1\u001b[39m :]\n\u001b[1;32m    176\u001b[0m \u001b[38;5;28;01mif\u001b[39;00m schema\u001b[38;5;241m.\u001b[39mtactics \u001b[38;5;241m==\u001b[39m \u001b[38;5;28mself\u001b[39m\u001b[38;5;241m.\u001b[39mschema\u001b[38;5;241m.\u001b[39mtactics:\n\u001b[0;32m--> 177\u001b[0m     \u001b[38;5;28;01mraise\u001b[39;00m PetanqueError(\u001b[38;5;241m0\u001b[39m, \u001b[38;5;124m\"\u001b[39m\u001b[38;5;124mNo proof found\u001b[39m\u001b[38;5;124m\"\u001b[39m)\n\u001b[1;32m    178\u001b[0m \u001b[38;5;28mself\u001b[39m\u001b[38;5;241m.\u001b[39mschema \u001b[38;5;241m=\u001b[39m schema\n\u001b[1;32m    179\u001b[0m \u001b[38;5;28;01mreturn\u001b[39;00m \u001b[38;5;28mself\u001b[39m\u001b[38;5;241m.\u001b[39mschema\n",
      "\u001b[0;31mPetanqueError\u001b[0m: (0, 'No proof found')"
     ]
    }
   ],
   "source": [
    "agent = gpt.GPTAgent(pet)\n",
    "\n",
    "context = \"\"\"\n",
    "Require Import Lia.\n",
    "\"\"\"\n",
    "\n",
    "agent.recursive_search(context, file_name=\"soft_found.v\", thm_name=\"add_shuffle3\")"
   ]
  },
  {
   "cell_type": "code",
   "execution_count": null,
   "metadata": {},
   "outputs": [],
   "source": [
    "agent.recursive_search(context, file_name=\"soft_found.v\", thm_name=\"mul_comm\")"
   ]
  },
  {
   "cell_type": "code",
   "execution_count": null,
   "metadata": {},
   "outputs": [],
   "source": [
    "agent.recursive_search(context, file_name=\"soft_found.v\", thm_name=\"mult_1_l\")"
   ]
  },
  {
   "cell_type": "code",
   "execution_count": null,
   "metadata": {},
   "outputs": [],
   "source": [
    "agent.recursive_search(context, file_name=\"soft_found.v\", thm_name=\"mult_plus_distr_r\")"
   ]
  },
  {
   "cell_type": "code",
   "execution_count": null,
   "metadata": {},
   "outputs": [],
   "source": [
    "agent.recursive_search(context, file_name=\"soft_found.v\", thm_name=\"mult_assoc\")"
   ]
  },
  {
   "cell_type": "code",
   "execution_count": null,
   "metadata": {},
   "outputs": [],
   "source": []
  }
 ],
 "metadata": {
  "kernelspec": {
   "display_name": "petanque",
   "language": "python",
   "name": "python3"
  },
  "language_info": {
   "codemirror_mode": {
    "name": "ipython",
    "version": 3
   },
   "file_extension": ".py",
   "mimetype": "text/x-python",
   "name": "python",
   "nbconvert_exporter": "python",
   "pygments_lexer": "ipython3",
   "version": "3.12.2"
  }
 },
 "nbformat": 4,
 "nbformat_minor": 2
}
