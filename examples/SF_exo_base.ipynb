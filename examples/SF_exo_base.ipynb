{
 "cells": [
  {
   "cell_type": "code",
   "execution_count": 1,
   "id": "c5db3e5f",
   "metadata": {},
   "outputs": [],
   "source": [
    "from utils_SF import extract_parts_to_json"
   ]
  },
  {
   "cell_type": "code",
   "execution_count": 2,
   "id": "5f580e21",
   "metadata": {},
   "outputs": [],
   "source": [
    "input_file = '/home/marc/software_foundations/lf/Basics.v'\n",
    "#input_file = '/home/marc/software_foundations/lf/Induction.v'\n",
    "exercises = extract_parts_to_json(input_file)"
   ]
  },
  {
   "cell_type": "code",
   "execution_count": 3,
   "id": "187de2ae",
   "metadata": {},
   "outputs": [],
   "source": [
    "import pytanque as pt\n",
    "from pytanque import Pytanque\n",
    "import pytanque.schema as sch\n",
    "import pytanque.gpt_agent2 as gpt\n",
    "\n",
    "pet = Pytanque(\"127.0.0.1\", 8765)\n",
    "pet.connect()"
   ]
  },
  {
   "cell_type": "code",
   "execution_count": 4,
   "id": "cbb1dd62",
   "metadata": {},
   "outputs": [],
   "source": [
    "agent = gpt.GPTAgent(pet)"
   ]
  },
  {
   "cell_type": "code",
   "execution_count": 5,
   "id": "7dff384b",
   "metadata": {},
   "outputs": [
    {
     "name": "stdout",
     "output_type": "stream",
     "text": [
      "['plus_id_exercise']\n",
      "{ intros n m o H1 H2. admit. }\n",
      "['mult_n_1']\n",
      "{ intros p. admit. }\n",
      "['andb_true_elim2']\n",
      "{ intros b c H. destruct b. \n",
      " - simpl in H. assumption. \n",
      " - simpl in H. discriminate H. }\n",
      "['zero_nbeq_plus_1']\n",
      "{ intros n. destruct n as [| n']. \n",
      " - simpl. reflexivity. \n",
      " - simpl. reflexivity. }\n",
      "['identity_fn_applied_twice']\n",
      "{ intros f H b. rewrite H. apply H. }\n",
      "['andb_eq_orb']\n",
      "{ intros b c H. destruct b, c. \n",
      " - reflexivity. \n",
      " - simpl in H. discriminate. \n",
      " - simpl in H. discriminate. \n",
      " - reflexivity. }\n",
      "['letter_comparison_Eq']\n",
      "{ intros l. unfold letter_comparison. admit. }\n",
      "['lower_letter_lowers']\n",
      "{ intros l H. unfold lower_letter. admit. }\n",
      "['lower_grade_F_Minus']\n",
      "{ simpl. admit. }\n",
      "['lower_grade_lowers']\n",
      "{ intros g H. destruct g. simpl in H. admit. }\n",
      "['no_penalty_for_mostly_on_time']\n",
      "{ intros late_days g H. unfold apply_late_policy. simpl. admit. }\n",
      "['graded_lowered_once']\n",
      "{ intros late_days g H1 H2 H3. unfold apply_late_policy. simpl. admit. }\n"
     ]
    }
   ],
   "source": [
    "for ex in exercises:\n",
    "    #print(ex['type_parts'])\n",
    "    parts = ex['type_parts']\n",
    "    names = ex['names']\n",
    "    for (p,n) in zip(parts,names):\n",
    "        if p == 'Proof' and len(n)>0:\n",
    "            print(n)\n",
    "            init_state = pet.start(file=input_file, thm=n[0])\n",
    "            try:\n",
    "                print(agent.start(' ', init_state))\n",
    "            except ValueError:\n",
    "                print(ex)"
   ]
  },
  {
   "cell_type": "code",
   "execution_count": null,
   "id": "0d5a0469",
   "metadata": {},
   "outputs": [],
   "source": []
  }
 ],
 "metadata": {
  "kernelspec": {
   "display_name": "pytanque",
   "language": "python",
   "name": "pytanque"
  },
  "language_info": {
   "codemirror_mode": {
    "name": "ipython",
    "version": 3
   },
   "file_extension": ".py",
   "mimetype": "text/x-python",
   "name": "python",
   "nbconvert_exporter": "python",
   "pygments_lexer": "ipython3",
   "version": "3.12.2"
  }
 },
 "nbformat": 4,
 "nbformat_minor": 5
}
